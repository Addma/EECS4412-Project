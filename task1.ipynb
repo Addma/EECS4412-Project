{
 "cells": [
  {
   "cell_type": "code",
   "execution_count": 1,
   "id": "e38a044d",
   "metadata": {
    "scrolled": false
   },
   "outputs": [],
   "source": [
    "import pandas as pd\n",
    "import json\n",
    "file = open(\"./resources/basket.csv\", \"r\")"
   ]
  },
  {
   "cell_type": "code",
   "execution_count": 2,
   "id": "e5563e53",
   "metadata": {},
   "outputs": [],
   "source": [
    "data = [0] * 200\n",
    "i = 0\n",
    "for line in file:\n",
    "    l = line.rstrip('\\n')\n",
    "    l = l.split(',')\n",
    "    if l[0] == '': continue\n",
    "    data[i] = l\n",
    "    i += 1"
   ]
  },
  {
   "cell_type": "markdown",
   "id": "8364d274",
   "metadata": {},
   "source": [
    "length 1 itemsets"
   ]
  },
  {
   "cell_type": "code",
   "execution_count": 3,
   "id": "66faa00f",
   "metadata": {},
   "outputs": [],
   "source": [
    "minSup = 0.3\n",
    "itemset = {}\n",
    "for business in data:\n",
    "    for x in business:\n",
    "        if x in itemset:\n",
    "            itemset[x] += 1\n",
    "        else:\n",
    "            itemset.update({x: 0})"
   ]
  },
  {
   "cell_type": "code",
   "execution_count": 4,
   "id": "3f046723",
   "metadata": {},
   "outputs": [],
   "source": [
    "temp_itemset = {}\n",
    "for item in itemset:\n",
    "    if itemset[item] / 200 > minSup:\n",
    "        temp_itemset.update({item: itemset[item]})\n",
    "itemset = temp_itemset"
   ]
  },
  {
   "cell_type": "markdown",
   "id": "d393cfc9",
   "metadata": {},
   "source": [
    "length 2 itemsets"
   ]
  },
  {
   "cell_type": "code",
   "execution_count": 5,
   "id": "22f16b8b",
   "metadata": {},
   "outputs": [],
   "source": [
    "temp_itemset = {}\n",
    "used = []\n",
    "for item1 in itemset:\n",
    "    used.append(item1)\n",
    "    for item2 in itemset:\n",
    "        if item2 in used: \n",
    "            continue\n",
    "        else: \n",
    "            merge = str(item1 + ',' + item2)\n",
    "            temp_list = merge.split(',')\n",
    "            for business in data:\n",
    "                if all(a in business for a in temp_list):\n",
    "                    if merge in temp_itemset:\n",
    "                        temp_itemset[merge] += 1\n",
    "                    else:\n",
    "                        temp_itemset.update({merge: 0})\n",
    "itemset = temp_itemset"
   ]
  },
  {
   "cell_type": "code",
   "execution_count": 6,
   "id": "584bd2e8",
   "metadata": {},
   "outputs": [],
   "source": [
    "temp_itemset = {}\n",
    "for item in itemset:\n",
    "    if itemset[item] / 200 > minSup:\n",
    "        temp_itemset.update({item: itemset[item]})\n",
    "itemset = temp_itemset"
   ]
  },
  {
   "cell_type": "markdown",
   "id": "feab7142",
   "metadata": {},
   "source": [
    "length 3 itemsets"
   ]
  },
  {
   "cell_type": "code",
   "execution_count": 7,
   "id": "4e5baa6e",
   "metadata": {},
   "outputs": [],
   "source": [
    "def attempt_merge(a, b):\n",
    "    temp1 = a.split(',')\n",
    "    temp2 = b.split(',')\n",
    "    for i in range(len(temp1)-1):\n",
    "        if temp1[i] != temp2[i]:\n",
    "            return 0\n",
    "    ret = ''\n",
    "    for i in temp1:\n",
    "        ret += i + ','\n",
    "    ret += temp2[len(temp2)-1]\n",
    "    return ret"
   ]
  },
  {
   "cell_type": "code",
   "execution_count": 8,
   "id": "00980056",
   "metadata": {},
   "outputs": [],
   "source": [
    "def gen_candidate(itemset):\n",
    "    temp_itemset = {}\n",
    "    used = []\n",
    "    for item1 in itemset:\n",
    "        used.append(item1)\n",
    "        for item2 in itemset:\n",
    "            if item2 in used: \n",
    "                continue\n",
    "            else: \n",
    "                merge = attempt_merge(item1, item2)\n",
    "                if merge == 0:\n",
    "                    continue\n",
    "                temp_list = merge.split(',')\n",
    "                for business in data:\n",
    "                    if all(a in business for a in temp_list):\n",
    "                        if merge in temp_itemset:\n",
    "                            temp_itemset[merge] += 1\n",
    "                        else:\n",
    "                            temp_itemset.update({merge: 0})\n",
    "    ret_itemset = {}\n",
    "    for item in temp_itemset:\n",
    "        if temp_itemset[item] / 200 > minSup:\n",
    "            ret_itemset.update({item: temp_itemset[item]})\n",
    "    return ret_itemset"
   ]
  },
  {
   "cell_type": "code",
   "execution_count": 9,
   "id": "f541b97c",
   "metadata": {},
   "outputs": [],
   "source": [
    "for i in range(3):\n",
    "    old_itemset = itemset.copy()\n",
    "    itemset = gen_candidate(itemset)"
   ]
  },
  {
   "cell_type": "code",
   "execution_count": 10,
   "id": "7556e1a1",
   "metadata": {},
   "outputs": [],
   "source": [
    "temp = []\n",
    "for item in itemset:\n",
    "    temp.append(itemset[item])\n",
    "temp.sort()\n",
    "temp = temp[-10:]"
   ]
  },
  {
   "cell_type": "code",
   "execution_count": 11,
   "id": "b250947d",
   "metadata": {},
   "outputs": [],
   "source": [
    "top10 = {}\n",
    "for t in temp:\n",
    "    for item in itemset:\n",
    "        if itemset[item] == t:\n",
    "            top10.update({item: t})"
   ]
  },
  {
   "cell_type": "code",
   "execution_count": 12,
   "id": "c70751ad",
   "metadata": {},
   "outputs": [],
   "source": [
    "confidence = {}\n",
    "for item in top10:\n",
    "    for old_item in old_itemset:\n",
    "        if old_item in item:\n",
    "            confidence.update({item: itemset[item]/old_itemset[old_item]})"
   ]
  },
  {
   "cell_type": "code",
   "execution_count": 13,
   "id": "c136f98a",
   "metadata": {},
   "outputs": [
    {
     "data": {
      "text/plain": [
       "[141, 141, 142, 142, 142, 142, 143, 144, 144, 144]"
      ]
     },
     "execution_count": 13,
     "metadata": {},
     "output_type": "execute_result"
    }
   ],
   "source": [
    "temp"
   ]
  },
  {
   "cell_type": "code",
   "execution_count": 14,
   "id": "9e851977",
   "metadata": {},
   "outputs": [],
   "source": [
    "temp = []\n",
    "for c in confidence:\n",
    "    temp.append(confidence[c])\n",
    "temp.sort()\n",
    "temp = temp[-5:] + temp[:5]"
   ]
  },
  {
   "cell_type": "code",
   "execution_count": 15,
   "id": "d6aba24f",
   "metadata": {},
   "outputs": [
    {
     "name": "stdout",
     "output_type": "stream",
     "text": [
      "Rule: ['RestaurantsTakeOut', 'RestaurantsDelivery', 'OutdoorSeating'] -> HasTV | confidence = 0.993\n",
      "Rule: ['RestaurantsTakeOut', 'RestaurantsDelivery', 'BusinessAcceptsCreditCards'] -> RestaurantsPriceRange2 | confidence = 0.993\n",
      "Rule: ['RestaurantsTakeOut', 'RestaurantsDelivery', 'OutdoorSeating'] -> RestaurantsGoodForGroups | confidence = 0.9931\n",
      "Rule: ['RestaurantsTakeOut', 'RestaurantsDelivery', 'OutdoorSeating'] -> RestaurantsPriceRange2 | confidence = 0.9931\n",
      "Rule: ['RestaurantsTakeOut', 'RestaurantsDelivery', 'OutdoorSeating'] -> RestaurantsPriceRange2 | confidence = 0.9931\n",
      "Rule: ['RestaurantsTakeOut', 'RestaurantsDelivery', 'RestaurantsPriceRange2'] -> RestaurantsGoodForGroups | confidence = 0.9796\n",
      "Rule: ['RestaurantsTakeOut', 'RestaurantsDelivery', 'Ambience'] -> RestaurantsReservations | confidence = 0.986\n",
      "Rule: ['RestaurantsTakeOut', 'RestaurantsDelivery', 'Ambience'] -> RestaurantsReservations | confidence = 0.986\n",
      "Rule: ['RestaurantsTakeOut', 'RestaurantsDelivery', 'BusinessAcceptsCreditCards'] -> BusinessParking | confidence = 0.9861\n",
      "Rule: ['RestaurantsTakeOut', 'RestaurantsDelivery', 'BusinessAcceptsCreditCards'] -> BusinessParking | confidence = 0.9861\n"
     ]
    }
   ],
   "source": [
    "for t in temp:\n",
    "    for c in confidence: \n",
    "        if confidence[c] == t:\n",
    "            temp_set = c.split(',')\n",
    "            print('Rule:', str(temp_set[:len(temp_set)-2]), '->', temp_set[len(temp_set)-1] , '| confidence =', round(t, 4))\n",
    "            break       "
   ]
  },
  {
   "cell_type": "code",
   "execution_count": 16,
   "id": "eb5a1909",
   "metadata": {},
   "outputs": [
    {
     "data": {
      "text/plain": [
       "{'RestaurantsTakeOut,RestaurantsDelivery,Ambience,OutdoorSeating,RestaurantsReservations': 141,\n",
       " 'RestaurantsTakeOut,RestaurantsDelivery,OutdoorSeating,RestaurantsPriceRange2,HasTV': 141,\n",
       " 'RestaurantsTakeOut,RestaurantsDelivery,OutdoorSeating,RestaurantsReservations,RestaurantsGoodForGroups': 141,\n",
       " 'RestaurantsTakeOut,OutdoorSeating,RestaurantsPriceRange2,RestaurantsReservations,RestaurantsGoodForGroups': 141,\n",
       " 'RestaurantsDelivery,OutdoorSeating,RestaurantsPriceRange2,RestaurantsReservations,RestaurantsGoodForGroups': 141,\n",
       " 'RestaurantsTakeOut,RestaurantsDelivery,BusinessAcceptsCreditCards,OutdoorSeating,BusinessParking': 142,\n",
       " 'RestaurantsTakeOut,RestaurantsDelivery,BusinessAcceptsCreditCards,OutdoorSeating,RestaurantsPriceRange2': 142,\n",
       " 'RestaurantsTakeOut,RestaurantsDelivery,OutdoorSeating,BusinessParking,RestaurantsReservations': 142,\n",
       " 'RestaurantsTakeOut,RestaurantsDelivery,OutdoorSeating,RestaurantsReservations,HasTV': 142,\n",
       " 'RestaurantsTakeOut,RestaurantsDelivery,OutdoorSeating,RestaurantsPriceRange2,RestaurantsGoodForGroups': 143,\n",
       " 'RestaurantsTakeOut,RestaurantsDelivery,OutdoorSeating,BusinessParking,RestaurantsPriceRange2': 144,\n",
       " 'RestaurantsTakeOut,RestaurantsDelivery,OutdoorSeating,RestaurantsPriceRange2,RestaurantsReservations': 144,\n",
       " 'RestaurantsTakeOut,RestaurantsDelivery,RestaurantsPriceRange2,RestaurantsReservations,RestaurantsGoodForGroups': 144}"
      ]
     },
     "execution_count": 16,
     "metadata": {},
     "output_type": "execute_result"
    }
   ],
   "source": [
    "top10"
   ]
  },
  {
   "cell_type": "code",
   "execution_count": null,
   "id": "b68415fd",
   "metadata": {},
   "outputs": [],
   "source": []
  }
 ],
 "metadata": {
  "kernelspec": {
   "display_name": "Python 3 (ipykernel)",
   "language": "python",
   "name": "python3"
  },
  "language_info": {
   "codemirror_mode": {
    "name": "ipython",
    "version": 3
   },
   "file_extension": ".py",
   "mimetype": "text/x-python",
   "name": "python",
   "nbconvert_exporter": "python",
   "pygments_lexer": "ipython3",
   "version": "3.10.1"
  }
 },
 "nbformat": 4,
 "nbformat_minor": 5
}
