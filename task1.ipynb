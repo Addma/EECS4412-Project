{
 "cells": [
  {
   "cell_type": "code",
   "execution_count": 14,
   "id": "e7887e39",
   "metadata": {},
   "outputs": [],
   "source": [
    "import pandas as pd\n",
    "import json\n",
    "from datetime import datetime\n",
    "df = pd.read_csv(\"./resources/business_sample.csv\")"
   ]
  },
  {
   "cell_type": "code",
   "execution_count": 15,
   "id": "ae8dc24c",
   "metadata": {},
   "outputs": [],
   "source": [
    "def parsehours(h):\n",
    "    if type(h) is float:\n",
    "        return 0\n",
    "    total = 0\n",
    "    all_days = h.split(',')\n",
    "    for day in all_days:\n",
    "        times = day.split(\"-\")\n",
    "        times[0] = times[0].split('\\'')[3]\n",
    "        times[1] = times[1].replace('\\'', '')\n",
    "        times[1] = times[1].replace('}', '')\n",
    "        time1 = datetime.strptime(times[0], \"%H:%M\")\n",
    "        time2 = datetime.strptime(times[1], \"%H:%M\")\n",
    "        total += (time2 - time1).seconds/3600\n",
    "    return total   "
   ]
  },
  {
   "cell_type": "code",
   "execution_count": 16,
   "id": "a602b0a2",
   "metadata": {},
   "outputs": [],
   "source": [
    "clean = df.drop(['Unnamed: 0', 'business_id', 'name', 'address', 'city', 'latitude', 'longitude', 'postal_code', 'hours'], axis=1)\n",
    "clean['total_hours'] = df['hours'].apply(lambda x: parsehours(x))"
   ]
  },
  {
   "cell_type": "code",
   "execution_count": 30,
   "id": "9d41f7e2",
   "metadata": {},
   "outputs": [],
   "source": [
    "clean.to_csv('./resources/business_clean.csv', index=False)"
   ]
  },
  {
   "cell_type": "markdown",
   "id": "ef08fedf",
   "metadata": {},
   "source": [
    "Notes: Dropping 'attributes' cause it looks painful to work with"
   ]
  },
  {
   "cell_type": "code",
   "execution_count": 25,
   "id": "946ad74c",
   "metadata": {},
   "outputs": [],
   "source": [
    "test = clean.drop(['attributes'], axis=1)\n",
    "unique_categories = set()"
   ]
  },
  {
   "cell_type": "code",
   "execution_count": 26,
   "id": "31d2c9e8",
   "metadata": {},
   "outputs": [],
   "source": [
    "def parse_categories(c):\n",
    "    categories = c.split(',')\n",
    "    for category in categories:\n",
    "        unique_categories.add(category.strip())"
   ]
  },
  {
   "cell_type": "code",
   "execution_count": 27,
   "id": "cc7418fc",
   "metadata": {},
   "outputs": [
    {
     "data": {
      "text/plain": [
       "0      None\n",
       "1      None\n",
       "2      None\n",
       "3      None\n",
       "4      None\n",
       "       ... \n",
       "195    None\n",
       "196    None\n",
       "197    None\n",
       "198    None\n",
       "199    None\n",
       "Name: categories, Length: 200, dtype: object"
      ]
     },
     "execution_count": 27,
     "metadata": {},
     "output_type": "execute_result"
    }
   ],
   "source": [
    "test['categories'].apply(lambda x: parse_categories(x))"
   ]
  },
  {
   "cell_type": "code",
   "execution_count": 28,
   "id": "f4f98e75",
   "metadata": {},
   "outputs": [
    {
     "data": {
      "text/plain": [
       "{'American (New)',\n",
       " 'American (Traditional)',\n",
       " 'Argentine',\n",
       " 'Arts & Entertainment',\n",
       " 'Asian Fusion',\n",
       " 'Automotive',\n",
       " 'Bagels',\n",
       " 'Bakeries',\n",
       " 'Banks & Credit Unions',\n",
       " 'Barbeque',\n",
       " 'Bars',\n",
       " 'Beauty & Spas',\n",
       " 'Bed & Breakfast',\n",
       " 'Beer',\n",
       " 'Beer Bar',\n",
       " 'Breakfast & Brunch',\n",
       " 'Breweries',\n",
       " 'Brewpubs',\n",
       " 'British',\n",
       " 'Bubble Tea',\n",
       " 'Buffets',\n",
       " 'Burgers',\n",
       " 'Cafes',\n",
       " 'Cajun/Creole',\n",
       " 'Caribbean',\n",
       " 'Caterers',\n",
       " 'Cheese Shops',\n",
       " 'Cheesesteaks',\n",
       " 'Chicken Shop',\n",
       " 'Chicken Wings',\n",
       " 'Chinese',\n",
       " 'Cocktail Bars',\n",
       " 'Coffee & Tea',\n",
       " 'Comfort Food',\n",
       " 'Convenience Stores',\n",
       " 'Cuban',\n",
       " 'Delis',\n",
       " 'Desserts',\n",
       " 'Diners',\n",
       " 'Dinner Theater',\n",
       " 'Do-It-Yourself Food',\n",
       " 'Empanadas',\n",
       " 'Ethnic Food',\n",
       " 'Event Planning & Services',\n",
       " 'Farmers Market',\n",
       " 'Fast Food',\n",
       " 'Financial Services',\n",
       " 'Florists',\n",
       " 'Flowers & Gifts',\n",
       " 'Food',\n",
       " 'Food Delivery Services',\n",
       " 'Food Stands',\n",
       " 'Food Trucks',\n",
       " 'French',\n",
       " 'Gas Stations',\n",
       " 'Gelato',\n",
       " 'Gluten-Free',\n",
       " 'Greek',\n",
       " 'Grocery',\n",
       " 'Haitian',\n",
       " 'Halal',\n",
       " 'Hookah Bars',\n",
       " 'Hot Dogs',\n",
       " 'Hotels & Travel',\n",
       " 'Ice Cream & Frozen Yogurt',\n",
       " 'Imported Food',\n",
       " 'Indian',\n",
       " 'Internet Cafes',\n",
       " 'Italian',\n",
       " 'Japanese',\n",
       " 'Jazz & Blues',\n",
       " 'Juice Bars & Smoothies',\n",
       " 'Karaoke',\n",
       " 'Korean',\n",
       " 'Latin American',\n",
       " 'Lebanese',\n",
       " 'Live/Raw Food',\n",
       " 'Local Flavor',\n",
       " 'Lounges',\n",
       " 'Massage',\n",
       " 'Mediterranean',\n",
       " 'Mexican',\n",
       " 'Middle Eastern',\n",
       " 'Modern European',\n",
       " 'Moroccan',\n",
       " 'Music Venues',\n",
       " 'Nightlife',\n",
       " 'Noodles',\n",
       " 'Pakistani',\n",
       " 'Piano Bars',\n",
       " 'Pizza',\n",
       " 'Pool Halls',\n",
       " 'Pop-Up Restaurants',\n",
       " 'Pubs',\n",
       " 'Puerto Rican',\n",
       " 'Ramen',\n",
       " 'Restaurants',\n",
       " 'Salad',\n",
       " 'Sandwiches',\n",
       " 'Seafood',\n",
       " 'Seafood Markets',\n",
       " 'Shopping',\n",
       " 'Smokehouse',\n",
       " 'Soul Food',\n",
       " 'Soup',\n",
       " 'Spanish',\n",
       " 'Specialty Food',\n",
       " 'Sports Bars',\n",
       " 'Steakhouses',\n",
       " 'Street Vendors',\n",
       " 'Sushi Bars',\n",
       " 'Szechuan',\n",
       " 'Tacos',\n",
       " 'Tapas Bars',\n",
       " 'Tapas/Small Plates',\n",
       " 'Teppanyaki',\n",
       " 'Tex-Mex',\n",
       " 'Thai',\n",
       " 'Tobacco Shops',\n",
       " 'Turkish',\n",
       " 'Vape Shops',\n",
       " 'Vegetarian',\n",
       " 'Venues & Event Spaces',\n",
       " 'Vietnamese',\n",
       " 'Wine & Spirits',\n",
       " 'Wine Bars'}"
      ]
     },
     "execution_count": 28,
     "metadata": {},
     "output_type": "execute_result"
    }
   ],
   "source": [
    "unique_categories"
   ]
  },
  {
   "cell_type": "code",
   "execution_count": 29,
   "id": "f815b447",
   "metadata": {},
   "outputs": [
    {
     "data": {
      "text/plain": [
       "126"
      ]
     },
     "execution_count": 29,
     "metadata": {},
     "output_type": "execute_result"
    }
   ],
   "source": [
    "len(unique_categories)"
   ]
  },
  {
   "cell_type": "code",
   "execution_count": null,
   "id": "f8cb7f61",
   "metadata": {},
   "outputs": [],
   "source": []
  }
 ],
 "metadata": {
  "kernelspec": {
   "display_name": "Python 3 (ipykernel)",
   "language": "python",
   "name": "python3"
  },
  "language_info": {
   "codemirror_mode": {
    "name": "ipython",
    "version": 3
   },
   "file_extension": ".py",
   "mimetype": "text/x-python",
   "name": "python",
   "nbconvert_exporter": "python",
   "pygments_lexer": "ipython3",
   "version": "3.10.1"
  }
 },
 "nbformat": 4,
 "nbformat_minor": 5
}
