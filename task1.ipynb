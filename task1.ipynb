{
 "cells": [
  {
   "cell_type": "code",
   "execution_count": 1,
   "id": "e38a044d",
   "metadata": {
    "scrolled": false
   },
   "outputs": [],
   "source": [
    "import pandas as pd\n",
    "import json\n",
    "file = open(\"./resources/216480444-216482440-218407734-T1Disc.csv\", \"r\")"
   ]
  },
  {
   "cell_type": "code",
   "execution_count": 2,
   "id": "4a7e88a7",
   "metadata": {},
   "outputs": [],
   "source": [
    "data = [0] * 200\n",
    "i = 0\n",
    "for line in file:\n",
    "    l = line.rstrip('\\n')\n",
    "    l = l.split(',')\n",
    "    if l[0] == '': continue\n",
    "    data[i] = l\n",
    "    i += 1"
   ]
  },
  {
   "cell_type": "markdown",
   "id": "ff087e76",
   "metadata": {},
   "source": [
    "length 1 itemsets"
   ]
  },
  {
   "cell_type": "code",
   "execution_count": 3,
   "id": "996206cb",
   "metadata": {},
   "outputs": [],
   "source": [
    "minSup = 0.3\n",
    "itemset = {}\n",
    "for business in data:\n",
    "    for x in business:\n",
    "        if x in itemset:\n",
    "            itemset[x] += 1\n",
    "        else:\n",
    "            itemset.update({x: 0})"
   ]
  },
  {
   "cell_type": "code",
   "execution_count": 4,
   "id": "905a1f4f",
   "metadata": {},
   "outputs": [],
   "source": [
    "temp_itemset = {}\n",
    "for item in itemset:\n",
    "    if itemset[item] / 200 > minSup:\n",
    "        temp_itemset.update({item: itemset[item]})\n",
    "itemset = temp_itemset"
   ]
  },
  {
   "cell_type": "markdown",
   "id": "e74afb9a",
   "metadata": {},
   "source": [
    "length 2 itemsets"
   ]
  },
  {
   "cell_type": "code",
   "execution_count": 5,
   "id": "f24d954d",
   "metadata": {},
   "outputs": [],
   "source": [
    "temp_itemset = {}\n",
    "used = []\n",
    "for item1 in itemset:\n",
    "    used.append(item1)\n",
    "    for item2 in itemset:\n",
    "        if item2 in used: \n",
    "            continue\n",
    "        else: \n",
    "            merge = str(item1 + ',' + item2)\n",
    "            temp_list = merge.split(',')\n",
    "            for business in data:\n",
    "                if all(a in business for a in temp_list):\n",
    "                    if merge in temp_itemset:\n",
    "                        temp_itemset[merge] += 1\n",
    "                    else:\n",
    "                        temp_itemset.update({merge: 0})\n",
    "itemset = temp_itemset"
   ]
  },
  {
   "cell_type": "code",
   "execution_count": 6,
   "id": "3b10c79e",
   "metadata": {},
   "outputs": [],
   "source": [
    "temp_itemset = {}\n",
    "for item in itemset:\n",
    "    if itemset[item] / 200 > minSup:\n",
    "        temp_itemset.update({item: itemset[item]})\n",
    "itemset = temp_itemset"
   ]
  },
  {
   "cell_type": "markdown",
   "id": "6a3517a2",
   "metadata": {},
   "source": [
    "length 3 itemsets"
   ]
  },
  {
   "cell_type": "code",
   "execution_count": 7,
   "id": "d33f4f00",
   "metadata": {},
   "outputs": [],
   "source": [
    "def attempt_merge(a, b):\n",
    "    temp1 = a.split(',')\n",
    "    temp2 = b.split(',')\n",
    "    for i in range(len(temp1)-1):\n",
    "        if temp1[i] != temp2[i]:\n",
    "            return 0\n",
    "    ret = ''\n",
    "    for i in temp1:\n",
    "        ret += i + ','\n",
    "    ret += temp2[len(temp2)-1]\n",
    "    return ret"
   ]
  },
  {
   "cell_type": "code",
   "execution_count": 8,
   "id": "d37fe88a",
   "metadata": {},
   "outputs": [],
   "source": [
    "def gen_candidate(itemset):\n",
    "    temp_itemset = {}\n",
    "    used = []\n",
    "    for item1 in itemset:\n",
    "        used.append(item1)\n",
    "        for item2 in itemset:\n",
    "            if item2 in used: \n",
    "                continue\n",
    "            else: \n",
    "                merge = attempt_merge(item1, item2)\n",
    "                if merge == 0:\n",
    "                    continue\n",
    "                temp_list = merge.split(',')\n",
    "                for business in data:\n",
    "                    if all(a in business for a in temp_list):\n",
    "                        if merge in temp_itemset:\n",
    "                            temp_itemset[merge] += 1\n",
    "                        else:\n",
    "                            temp_itemset.update({merge: 0})\n",
    "    ret_itemset = {}\n",
    "    for item in temp_itemset:\n",
    "        if temp_itemset[item] / 200 > minSup:\n",
    "            ret_itemset.update({item: temp_itemset[item]})\n",
    "    return ret_itemset"
   ]
  },
  {
   "cell_type": "code",
   "execution_count": 9,
   "id": "5fcc018c",
   "metadata": {},
   "outputs": [],
   "source": [
    "for i in range(2):\n",
    "    old_itemset = itemset.copy()\n",
    "    itemset = gen_candidate(itemset)"
   ]
  },
  {
   "cell_type": "code",
   "execution_count": 10,
   "id": "38d60186",
   "metadata": {},
   "outputs": [],
   "source": [
    "temp = []\n",
    "for item in itemset:\n",
    "    temp.append(itemset[item])\n",
    "temp.sort()\n",
    "temp = temp[-10:]"
   ]
  },
  {
   "cell_type": "code",
   "execution_count": 11,
   "id": "0c85eb99",
   "metadata": {},
   "outputs": [],
   "source": [
    "top10 = {}\n",
    "for t in temp:\n",
    "    for item in itemset:\n",
    "        if itemset[item] == t:\n",
    "            top10.update({item: t})"
   ]
  },
  {
   "cell_type": "code",
   "execution_count": 12,
   "id": "f272a9ff",
   "metadata": {},
   "outputs": [],
   "source": [
    "confidence = {}\n",
    "for item in top10:\n",
    "    for old_item in old_itemset:\n",
    "        if old_item in item:\n",
    "            confidence.update({item: itemset[item]/old_itemset[old_item]})"
   ]
  },
  {
   "cell_type": "code",
   "execution_count": 13,
   "id": "2af135ff",
   "metadata": {},
   "outputs": [
    {
     "data": {
      "text/plain": [
       "[64, 67, 70, 71, 75, 75, 79, 79, 79, 88]"
      ]
     },
     "execution_count": 13,
     "metadata": {},
     "output_type": "execute_result"
    }
   ],
   "source": [
    "temp"
   ]
  },
  {
   "cell_type": "code",
   "execution_count": 14,
   "id": "d20073cc",
   "metadata": {},
   "outputs": [],
   "source": [
    "temp = []\n",
    "for c in confidence:\n",
    "    temp.append(confidence[c])\n",
    "temp.sort()\n",
    "temp = temp[-5:] + temp[:5]"
   ]
  },
  {
   "cell_type": "code",
   "execution_count": 15,
   "id": "c39bca04",
   "metadata": {},
   "outputs": [
    {
     "name": "stdout",
     "output_type": "stream",
     "text": [
      "Rule: ['is_open', 'RestaurantsTakeOut'] -> BusinessAcceptsCreditCards | confidence = 0.8316\n",
      "Rule: ['is_open', 'RestaurantsDelivery'] -> RestaurantsGoodForGroups | confidence = 0.8375\n",
      "Rule: ['RestaurantsTakeOut', 'BusinessAcceptsCreditCards'] -> HasTV | confidence = 0.88\n",
      "Rule: ['RestaurantsTakeOut', 'RestaurantsDelivery'] -> RestaurantsGoodForGroups | confidence = 0.9375\n",
      "Rule: ['RestaurantsTakeOut', 'RestaurantsDelivery'] -> HasTV | confidence = 0.9467\n",
      "Rule: ['is_open', 'RestaurantsTakeOut'] -> RestaurantsGoodForGroups | confidence = 0.7054\n",
      "Rule: ['is_open', 'RestaurantsTakeOut'] -> HasTV | confidence = 0.7292\n",
      "Rule: ['is_open', 'RestaurantsTakeOut'] -> HasTV | confidence = 0.7453\n",
      "Rule: ['is_open', 'BusinessAcceptsCreditCards'] -> HasTV | confidence = 0.75\n",
      "Rule: ['is_open', 'RestaurantsTakeOut'] -> RestaurantsGoodForGroups | confidence = 0.8101\n"
     ]
    }
   ],
   "source": [
    "for t in temp:\n",
    "    for c in confidence: \n",
    "        if confidence[c] == t:\n",
    "            temp_set = c.split(',')\n",
    "            print('Rule:', str(temp_set[:len(temp_set)-2]), '->', temp_set[len(temp_set)-1] , '| confidence =', round(t, 4))\n",
    "            break       "
   ]
  },
  {
   "cell_type": "code",
   "execution_count": 16,
   "id": "6eaec863",
   "metadata": {},
   "outputs": [
    {
     "data": {
      "text/plain": [
       "{'is_open,RestaurantsTakeOut,RestaurantsDelivery,RestaurantsGoodForGroups': 64,\n",
       " 'is_open,RestaurantsDelivery,BusinessAcceptsCreditCards,RestaurantsGoodForGroups': 67,\n",
       " 'is_open,RestaurantsTakeOut,RestaurantsGoodForGroups,HasTV': 70,\n",
       " 'RestaurantsTakeOut,RestaurantsDelivery,BusinessAcceptsCreditCards,HasTV': 71,\n",
       " 'is_open,BusinessAcceptsCreditCards,RestaurantsGoodForGroups,HasTV': 75,\n",
       " 'RestaurantsTakeOut,RestaurantsDelivery,BusinessAcceptsCreditCards,RestaurantsGoodForGroups': 75,\n",
       " 'is_open,RestaurantsTakeOut,RestaurantsDelivery,BusinessAcceptsCreditCards': 79,\n",
       " 'is_open,RestaurantsTakeOut,BusinessAcceptsCreditCards,RestaurantsGoodForGroups': 79,\n",
       " 'is_open,RestaurantsTakeOut,BusinessAcceptsCreditCards,HasTV': 79,\n",
       " 'RestaurantsTakeOut,BusinessAcceptsCreditCards,RestaurantsGoodForGroups,HasTV': 88}"
      ]
     },
     "execution_count": 16,
     "metadata": {},
     "output_type": "execute_result"
    }
   ],
   "source": [
    "top10"
   ]
  },
  {
   "cell_type": "code",
   "execution_count": null,
   "id": "aa82547b",
   "metadata": {},
   "outputs": [],
   "source": []
  }
 ],
 "metadata": {
  "kernelspec": {
   "display_name": "Python 3 (ipykernel)",
   "language": "python",
   "name": "python3"
  },
  "language_info": {
   "codemirror_mode": {
    "name": "ipython",
    "version": 3
   },
   "file_extension": ".py",
   "mimetype": "text/x-python",
   "name": "python",
   "nbconvert_exporter": "python",
   "pygments_lexer": "ipython3",
   "version": "3.10.1"
  }
 },
 "nbformat": 4,
 "nbformat_minor": 5
}
