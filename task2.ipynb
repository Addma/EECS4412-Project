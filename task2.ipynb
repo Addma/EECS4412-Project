{
 "cells": [
  {
   "cell_type": "code",
   "execution_count": 2,
   "id": "d55ab246",
   "metadata": {},
   "outputs": [],
   "source": [
    "import pandas as pd\n",
    "df = pd.read_csv(\"./test.csv\")"
   ]
  },
  {
   "cell_type": "code",
   "execution_count": 3,
   "id": "2f52f828",
   "metadata": {},
   "outputs": [
    {
     "data": {
      "text/html": [
       "<div>\n",
       "<style scoped>\n",
       "    .dataframe tbody tr th:only-of-type {\n",
       "        vertical-align: middle;\n",
       "    }\n",
       "\n",
       "    .dataframe tbody tr th {\n",
       "        vertical-align: top;\n",
       "    }\n",
       "\n",
       "    .dataframe thead th {\n",
       "        text-align: right;\n",
       "    }\n",
       "</style>\n",
       "<table border=\"1\" class=\"dataframe\">\n",
       "  <thead>\n",
       "    <tr style=\"text-align: right;\">\n",
       "      <th></th>\n",
       "      <th>city</th>\n",
       "      <th>state</th>\n",
       "      <th>latitude</th>\n",
       "      <th>longitude</th>\n",
       "      <th>stars</th>\n",
       "      <th>review_count</th>\n",
       "      <th>is_open</th>\n",
       "      <th>categories</th>\n",
       "      <th>hours</th>\n",
       "    </tr>\n",
       "  </thead>\n",
       "  <tbody>\n",
       "    <tr>\n",
       "      <th>0</th>\n",
       "      <td>Kenner</td>\n",
       "      <td>LA</td>\n",
       "      <td>29.985568</td>\n",
       "      <td>-90.256119</td>\n",
       "      <td>2.0</td>\n",
       "      <td>116</td>\n",
       "      <td>0</td>\n",
       "      <td>Restaurants, Cafes</td>\n",
       "      <td>{'Monday': '5:0-20:0', 'Tuesday': '5:0-20:0', ...</td>\n",
       "    </tr>\n",
       "    <tr>\n",
       "      <th>1</th>\n",
       "      <td>Philadelphia</td>\n",
       "      <td>PA</td>\n",
       "      <td>39.950759</td>\n",
       "      <td>-75.174340</td>\n",
       "      <td>4.0</td>\n",
       "      <td>276</td>\n",
       "      <td>1</td>\n",
       "      <td>Mexican, Tacos, Restaurants</td>\n",
       "      <td>{'Monday': '0:0-0:0', 'Tuesday': '11:0-20:30',...</td>\n",
       "    </tr>\n",
       "    <tr>\n",
       "      <th>2</th>\n",
       "      <td>Pleasant View</td>\n",
       "      <td>TN</td>\n",
       "      <td>36.394216</td>\n",
       "      <td>-87.036669</td>\n",
       "      <td>4.5</td>\n",
       "      <td>18</td>\n",
       "      <td>0</td>\n",
       "      <td>Restaurants, Japanese</td>\n",
       "      <td>NaN</td>\n",
       "    </tr>\n",
       "    <tr>\n",
       "      <th>3</th>\n",
       "      <td>Plant City</td>\n",
       "      <td>FL</td>\n",
       "      <td>27.989817</td>\n",
       "      <td>-82.120078</td>\n",
       "      <td>1.5</td>\n",
       "      <td>28</td>\n",
       "      <td>1</td>\n",
       "      <td>Food, Tex-Mex, Restaurants, Mexican</td>\n",
       "      <td>{'Monday': '10:30-21:0', 'Tuesday': '10:30-21:...</td>\n",
       "    </tr>\n",
       "    <tr>\n",
       "      <th>4</th>\n",
       "      <td>Gretna</td>\n",
       "      <td>LA</td>\n",
       "      <td>29.889222</td>\n",
       "      <td>-90.019323</td>\n",
       "      <td>4.0</td>\n",
       "      <td>29</td>\n",
       "      <td>1</td>\n",
       "      <td>Seafood, Restaurants, Specialty Food, Sandwich...</td>\n",
       "      <td>{'Monday': '11:0-18:30', 'Tuesday': '11:0-18:3...</td>\n",
       "    </tr>\n",
       "    <tr>\n",
       "      <th>...</th>\n",
       "      <td>...</td>\n",
       "      <td>...</td>\n",
       "      <td>...</td>\n",
       "      <td>...</td>\n",
       "      <td>...</td>\n",
       "      <td>...</td>\n",
       "      <td>...</td>\n",
       "      <td>...</td>\n",
       "      <td>...</td>\n",
       "    </tr>\n",
       "    <tr>\n",
       "      <th>195</th>\n",
       "      <td>Belleville</td>\n",
       "      <td>IL</td>\n",
       "      <td>38.524889</td>\n",
       "      <td>-90.033922</td>\n",
       "      <td>2.5</td>\n",
       "      <td>32</td>\n",
       "      <td>1</td>\n",
       "      <td>Bars, American (Traditional), Chicken Wings, S...</td>\n",
       "      <td>{'Monday': '0:0-0:0', 'Tuesday': '11:0-22:0', ...</td>\n",
       "    </tr>\n",
       "    <tr>\n",
       "      <th>196</th>\n",
       "      <td>Skippack</td>\n",
       "      <td>PA</td>\n",
       "      <td>40.233979</td>\n",
       "      <td>-75.401421</td>\n",
       "      <td>3.5</td>\n",
       "      <td>19</td>\n",
       "      <td>1</td>\n",
       "      <td>Chinese, Restaurants</td>\n",
       "      <td>{'Monday': '11:0-22:0', 'Tuesday': '11:0-22:0'...</td>\n",
       "    </tr>\n",
       "    <tr>\n",
       "      <th>197</th>\n",
       "      <td>Royersford</td>\n",
       "      <td>PA</td>\n",
       "      <td>40.191707</td>\n",
       "      <td>-75.532174</td>\n",
       "      <td>4.5</td>\n",
       "      <td>29</td>\n",
       "      <td>1</td>\n",
       "      <td>Street Vendors, Food Stands, Barbeque, Food, R...</td>\n",
       "      <td>{'Friday': '10:0-17:30', 'Saturday': '10:0-17:...</td>\n",
       "    </tr>\n",
       "    <tr>\n",
       "      <th>198</th>\n",
       "      <td>Mount Juliet</td>\n",
       "      <td>TN</td>\n",
       "      <td>36.238336</td>\n",
       "      <td>-86.530633</td>\n",
       "      <td>3.5</td>\n",
       "      <td>44</td>\n",
       "      <td>1</td>\n",
       "      <td>Mexican, Restaurants</td>\n",
       "      <td>{'Monday': '11:0-22:0', 'Tuesday': '11:0-22:0'...</td>\n",
       "    </tr>\n",
       "    <tr>\n",
       "      <th>199</th>\n",
       "      <td>Edmonton</td>\n",
       "      <td>AB</td>\n",
       "      <td>53.591938</td>\n",
       "      <td>-113.451883</td>\n",
       "      <td>4.5</td>\n",
       "      <td>10</td>\n",
       "      <td>0</td>\n",
       "      <td>Halal, Caribbean, Event Planning &amp; Services, A...</td>\n",
       "      <td>{'Tuesday': '11:0-21:0', 'Wednesday': '11:0-21...</td>\n",
       "    </tr>\n",
       "  </tbody>\n",
       "</table>\n",
       "<p>200 rows × 9 columns</p>\n",
       "</div>"
      ],
      "text/plain": [
       "              city state   latitude   longitude  stars  review_count  is_open  \\\n",
       "0           Kenner    LA  29.985568  -90.256119    2.0           116        0   \n",
       "1     Philadelphia    PA  39.950759  -75.174340    4.0           276        1   \n",
       "2    Pleasant View    TN  36.394216  -87.036669    4.5            18        0   \n",
       "3       Plant City    FL  27.989817  -82.120078    1.5            28        1   \n",
       "4           Gretna    LA  29.889222  -90.019323    4.0            29        1   \n",
       "..             ...   ...        ...         ...    ...           ...      ...   \n",
       "195     Belleville    IL  38.524889  -90.033922    2.5            32        1   \n",
       "196       Skippack    PA  40.233979  -75.401421    3.5            19        1   \n",
       "197    Royersford     PA  40.191707  -75.532174    4.5            29        1   \n",
       "198   Mount Juliet    TN  36.238336  -86.530633    3.5            44        1   \n",
       "199       Edmonton    AB  53.591938 -113.451883    4.5            10        0   \n",
       "\n",
       "                                            categories  \\\n",
       "0                                   Restaurants, Cafes   \n",
       "1                          Mexican, Tacos, Restaurants   \n",
       "2                                Restaurants, Japanese   \n",
       "3                  Food, Tex-Mex, Restaurants, Mexican   \n",
       "4    Seafood, Restaurants, Specialty Food, Sandwich...   \n",
       "..                                                 ...   \n",
       "195  Bars, American (Traditional), Chicken Wings, S...   \n",
       "196                               Chinese, Restaurants   \n",
       "197  Street Vendors, Food Stands, Barbeque, Food, R...   \n",
       "198                               Mexican, Restaurants   \n",
       "199  Halal, Caribbean, Event Planning & Services, A...   \n",
       "\n",
       "                                                 hours  \n",
       "0    {'Monday': '5:0-20:0', 'Tuesday': '5:0-20:0', ...  \n",
       "1    {'Monday': '0:0-0:0', 'Tuesday': '11:0-20:30',...  \n",
       "2                                                  NaN  \n",
       "3    {'Monday': '10:30-21:0', 'Tuesday': '10:30-21:...  \n",
       "4    {'Monday': '11:0-18:30', 'Tuesday': '11:0-18:3...  \n",
       "..                                                 ...  \n",
       "195  {'Monday': '0:0-0:0', 'Tuesday': '11:0-22:0', ...  \n",
       "196  {'Monday': '11:0-22:0', 'Tuesday': '11:0-22:0'...  \n",
       "197  {'Friday': '10:0-17:30', 'Saturday': '10:0-17:...  \n",
       "198  {'Monday': '11:0-22:0', 'Tuesday': '11:0-22:0'...  \n",
       "199  {'Tuesday': '11:0-21:0', 'Wednesday': '11:0-21...  \n",
       "\n",
       "[200 rows x 9 columns]"
      ]
     },
     "execution_count": 3,
     "metadata": {},
     "output_type": "execute_result"
    }
   ],
   "source": [
    "df.drop(['Unnamed: 0', 'business_id', 'name', 'address', 'postal_code', 'attributes'], axis=1)"
   ]
  },
  {
   "cell_type": "markdown",
   "id": "77162ddf",
   "metadata": {},
   "source": [
    "<b>Nominal - State</b>"
   ]
  },
  {
   "cell_type": "code",
   "execution_count": 20,
   "id": "9815bb36",
   "metadata": {},
   "outputs": [
    {
     "name": "stdout",
     "output_type": "stream",
     "text": [
      "State with most restaurants\n",
      "TN :  16\n"
     ]
    }
   ],
   "source": [
    "state_count = {}\n",
    "for row in df['state']:\n",
    "    if row in state_count:\n",
    "        state_count.update({row: 1 + state_count.get(row)})\n",
    "    else:\n",
    "        state_count.update({row: 1})\n",
    "print('State with most restaurants')\n",
    "print(max(state_count), ': ', state_count.get(max(state_count)))"
   ]
  },
  {
   "cell_type": "markdown",
   "id": "f9943dc5",
   "metadata": {},
   "source": [
    "<b>Ordinal - Stars</b>"
   ]
  },
  {
   "cell_type": "code",
   "execution_count": 4,
   "id": "070a9ff8",
   "metadata": {},
   "outputs": [
    {
     "data": {
      "text/plain": [
       "count    200.000000\n",
       "mean       3.475000\n",
       "std        0.804744\n",
       "min        1.000000\n",
       "25%        3.000000\n",
       "50%        3.500000\n",
       "75%        4.000000\n",
       "max        5.000000\n",
       "Name: stars, dtype: float64"
      ]
     },
     "execution_count": 4,
     "metadata": {},
     "output_type": "execute_result"
    }
   ],
   "source": [
    "df['stars'].describe()"
   ]
  },
  {
   "cell_type": "markdown",
   "id": "482b2218",
   "metadata": {},
   "source": [
    "<b>Interval - Hours</b>"
   ]
  },
  {
   "cell_type": "code",
   "execution_count": null,
   "id": "11f64b3e",
   "metadata": {},
   "outputs": [],
   "source": []
  },
  {
   "cell_type": "markdown",
   "id": "23729864",
   "metadata": {},
   "source": [
    "<b>Ratio - Review Count</b>"
   ]
  },
  {
   "cell_type": "code",
   "execution_count": 21,
   "id": "34dd9883",
   "metadata": {
    "scrolled": true
   },
   "outputs": [
    {
     "data": {
      "text/plain": [
       "count     200.000000\n",
       "mean      110.770000\n",
       "std       542.918067\n",
       "min         5.000000\n",
       "25%        16.000000\n",
       "50%        29.000000\n",
       "75%        69.500000\n",
       "max      7568.000000\n",
       "Name: review_count, dtype: float64"
      ]
     },
     "execution_count": 21,
     "metadata": {},
     "output_type": "execute_result"
    }
   ],
   "source": [
    "df['review_count'].describe()"
   ]
  }
 ],
 "metadata": {
  "kernelspec": {
   "display_name": "Python 3 (ipykernel)",
   "language": "python",
   "name": "python3"
  },
  "language_info": {
   "codemirror_mode": {
    "name": "ipython",
    "version": 3
   },
   "file_extension": ".py",
   "mimetype": "text/x-python",
   "name": "python",
   "nbconvert_exporter": "python",
   "pygments_lexer": "ipython3",
   "version": "3.10.1"
  }
 },
 "nbformat": 4,
 "nbformat_minor": 5
}
