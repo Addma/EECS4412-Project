{
 "cells": [
  {
   "cell_type": "code",
   "execution_count": 27,
   "id": "eab40a49",
   "metadata": {},
   "outputs": [],
   "source": [
    "import pandas as pd\n",
    "import numpy as np\n",
    "df = pd.read_csv(\"./user.csv\")"
   ]
  },
  {
   "cell_type": "code",
   "execution_count": 28,
   "id": "470e24d5",
   "metadata": {},
   "outputs": [
    {
     "name": "stdout",
     "output_type": "stream",
     "text": [
      "['compliment_more', 'compliment_profile', 'compliment_cute', 'compliment_list', 'compliment_note', 'compliment_plain', 'compliment_cool', 'compliment_funny', 'compliment_writer', 'compliment_photos', 'compliment_hot']\n"
     ]
    },
    {
     "data": {
      "text/html": [
       "<div>\n",
       "<style scoped>\n",
       "    .dataframe tbody tr th:only-of-type {\n",
       "        vertical-align: middle;\n",
       "    }\n",
       "\n",
       "    .dataframe tbody tr th {\n",
       "        vertical-align: top;\n",
       "    }\n",
       "\n",
       "    .dataframe thead th {\n",
       "        text-align: right;\n",
       "    }\n",
       "</style>\n",
       "<table border=\"1\" class=\"dataframe\">\n",
       "  <thead>\n",
       "    <tr style=\"text-align: right;\">\n",
       "      <th></th>\n",
       "      <th>Unnamed: 0</th>\n",
       "      <th>user_id</th>\n",
       "      <th>name</th>\n",
       "      <th>review_count</th>\n",
       "      <th>yelping_since</th>\n",
       "      <th>elite</th>\n",
       "      <th>friends</th>\n",
       "      <th>fans</th>\n",
       "      <th>average_stars</th>\n",
       "      <th>compliment_count</th>\n",
       "      <th>votes</th>\n",
       "    </tr>\n",
       "  </thead>\n",
       "  <tbody>\n",
       "    <tr>\n",
       "      <th>0</th>\n",
       "      <td>1817726</td>\n",
       "      <td>baysubsyBl7omYmSoAL_nQ</td>\n",
       "      <td>R Richard</td>\n",
       "      <td>2</td>\n",
       "      <td>2014-06-04 20:40:22</td>\n",
       "      <td>NaN</td>\n",
       "      <td>YKVaewqx90wPPNCEfPTzUw, wc2vSdN_TdFR9BonSEHbRw...</td>\n",
       "      <td>0</td>\n",
       "      <td>4.50</td>\n",
       "      <td>0</td>\n",
       "      <td>0</td>\n",
       "    </tr>\n",
       "    <tr>\n",
       "      <th>1</th>\n",
       "      <td>1927844</td>\n",
       "      <td>dqIFJVJVNb3srqK_vobrfw</td>\n",
       "      <td>Jenny</td>\n",
       "      <td>16</td>\n",
       "      <td>2014-08-13 02:02:41</td>\n",
       "      <td>NaN</td>\n",
       "      <td>None</td>\n",
       "      <td>0</td>\n",
       "      <td>4.69</td>\n",
       "      <td>0</td>\n",
       "      <td>4</td>\n",
       "    </tr>\n",
       "    <tr>\n",
       "      <th>2</th>\n",
       "      <td>1057397</td>\n",
       "      <td>XsEZazFrQDZhZqrC0t5sCw</td>\n",
       "      <td>Ann</td>\n",
       "      <td>3</td>\n",
       "      <td>2018-06-05 13:15:34</td>\n",
       "      <td>NaN</td>\n",
       "      <td>Bj8gb3mKTnORVy1MC8FylQ, lwl_YWQ-1iXmcA-mHVG_jA...</td>\n",
       "      <td>0</td>\n",
       "      <td>1.67</td>\n",
       "      <td>0</td>\n",
       "      <td>1</td>\n",
       "    </tr>\n",
       "    <tr>\n",
       "      <th>3</th>\n",
       "      <td>1513691</td>\n",
       "      <td>LdtFVKWwcO6cxsVDCBXqLA</td>\n",
       "      <td>W</td>\n",
       "      <td>5</td>\n",
       "      <td>2009-03-31 19:00:59</td>\n",
       "      <td>NaN</td>\n",
       "      <td>None</td>\n",
       "      <td>0</td>\n",
       "      <td>2.00</td>\n",
       "      <td>0</td>\n",
       "      <td>5</td>\n",
       "    </tr>\n",
       "    <tr>\n",
       "      <th>4</th>\n",
       "      <td>1073346</td>\n",
       "      <td>NUApbP2YOPnVsTPSvMsdxQ</td>\n",
       "      <td>Amber</td>\n",
       "      <td>11</td>\n",
       "      <td>2013-07-14 20:55:11</td>\n",
       "      <td>NaN</td>\n",
       "      <td>j3GVN7VpDZ2I3_g332h3TQ, 3lKGcCwbxKB1bAgfCyVsLg...</td>\n",
       "      <td>0</td>\n",
       "      <td>4.17</td>\n",
       "      <td>0</td>\n",
       "      <td>6</td>\n",
       "    </tr>\n",
       "  </tbody>\n",
       "</table>\n",
       "</div>"
      ],
      "text/plain": [
       "   Unnamed: 0                 user_id       name  review_count  \\\n",
       "0     1817726  baysubsyBl7omYmSoAL_nQ  R Richard             2   \n",
       "1     1927844  dqIFJVJVNb3srqK_vobrfw      Jenny            16   \n",
       "2     1057397  XsEZazFrQDZhZqrC0t5sCw        Ann             3   \n",
       "3     1513691  LdtFVKWwcO6cxsVDCBXqLA          W             5   \n",
       "4     1073346  NUApbP2YOPnVsTPSvMsdxQ      Amber            11   \n",
       "\n",
       "         yelping_since elite  \\\n",
       "0  2014-06-04 20:40:22   NaN   \n",
       "1  2014-08-13 02:02:41   NaN   \n",
       "2  2018-06-05 13:15:34   NaN   \n",
       "3  2009-03-31 19:00:59   NaN   \n",
       "4  2013-07-14 20:55:11   NaN   \n",
       "\n",
       "                                             friends  fans  average_stars  \\\n",
       "0  YKVaewqx90wPPNCEfPTzUw, wc2vSdN_TdFR9BonSEHbRw...     0           4.50   \n",
       "1                                               None     0           4.69   \n",
       "2  Bj8gb3mKTnORVy1MC8FylQ, lwl_YWQ-1iXmcA-mHVG_jA...     0           1.67   \n",
       "3                                               None     0           2.00   \n",
       "4  j3GVN7VpDZ2I3_g332h3TQ, 3lKGcCwbxKB1bAgfCyVsLg...     0           4.17   \n",
       "\n",
       "   compliment_count  votes  \n",
       "0                 0      0  \n",
       "1                 0      4  \n",
       "2                 0      1  \n",
       "3                 0      5  \n",
       "4                 0      6  "
      ]
     },
     "execution_count": 28,
     "metadata": {},
     "output_type": "execute_result"
    }
   ],
   "source": [
    "df['compliment_count'] = df['compliment_more'] + df['compliment_profile'] + \\\n",
    "    df['compliment_cute'] + df['compliment_list'] + df['compliment_note'] + \\\n",
    "    df['compliment_plain'] + df['compliment_cool'] + df['compliment_funny'] +\\\n",
    "    df['compliment_writer'] + df['compliment_photos'] + df['compliment_hot']\n",
    "df['votes'] = df['useful'] + df['funny'] + df['cool']\n",
    "\n",
    "drop_list = ['more', 'profile', 'cute', 'list', 'note', 'plain', 'cool', 'funny', 'writer', 'photos', 'hot']\n",
    "for i in range(11):\n",
    "    drop_list[i] = 'compliment_' + drop_list[i]\n",
    "print(drop_list)\n",
    "    \n",
    "df = df.drop(drop_list, axis=1)\n",
    "df = df.drop(columns=['useful', 'funny', 'cool'])\n",
    "df.head()"
   ]
  },
  {
   "cell_type": "code",
   "execution_count": 32,
   "id": "c3c848b7",
   "metadata": {},
   "outputs": [],
   "source": [
    "df['years_yelped'] = df['yelping_since'].apply(lambda x: x.split('-')[0])\n",
    "df['years_yelped'] = 2022 - df['years_yelped'].astype(int)\n",
    "df['num_friends'] = df['friends'].apply(lambda x: len(x.split(',')))\n",
    "df['num_friends'] = np.where(df['friends']=='None', 0, df['num_friends'])\n",
    "\n",
    "clean = df.drop(columns=['Unnamed: 0', 'user_id', 'name', 'yelping_since', 'elite', 'friends'])\n",
    "normalized_clean=(clean-clean.mean())/clean.std()"
   ]
  },
  {
   "cell_type": "markdown",
   "id": "3495bd57",
   "metadata": {},
   "source": [
    "<b>Euclidean</b>"
   ]
  },
  {
   "cell_type": "code",
   "execution_count": 33,
   "id": "f93b4a22",
   "metadata": {},
   "outputs": [
    {
     "name": "stdout",
     "output_type": "stream",
     "text": [
      "[[0.         1.74131262 2.95260183 ... 1.9802489  5.75981585 1.80052097]\n",
      " [1.74131262 0.         2.83026597 ... 1.05617264 5.38547034 0.45937901]\n",
      " [2.95260183 2.83026597 0.         ... 3.58986946 5.98601343 2.91435075]\n",
      " ...\n",
      " [1.9802489  1.05617264 3.58986946 ... 0.         5.43327822 1.33479466]\n",
      " [5.75981585 5.38547034 5.98601343 ... 5.43327822 0.         5.72703042]\n",
      " [1.80052097 0.45937901 2.91435075 ... 1.33479466 5.72703042 0.        ]]\n"
     ]
    }
   ],
   "source": [
    "from scipy.spatial.distance import pdist, squareform\n",
    "\n",
    "distances = pdist(normalized_clean.values, metric='euclidean')\n",
    "dist_matrix = squareform(distances)\n",
    "print(dist_matrix)"
   ]
  },
  {
   "cell_type": "markdown",
   "id": "32d2479e",
   "metadata": {},
   "source": [
    "<b>Cosine</b>"
   ]
  },
  {
   "cell_type": "code",
   "execution_count": 34,
   "id": "3513ae67",
   "metadata": {},
   "outputs": [
    {
     "name": "stdout",
     "output_type": "stream",
     "text": [
      "[[0.         0.921104   1.378236   ... 0.77348481 1.30949552 0.83834549]\n",
      " [0.921104   0.         1.6932503  ... 0.19854965 1.17675905 0.05675616]\n",
      " [1.378236   1.6932503  0.         ... 1.86949004 1.26483819 1.53236152]\n",
      " ...\n",
      " [0.77348481 0.19854965 1.86949004 ... 0.         1.03207663 0.38072901]\n",
      " [1.30949552 1.17675905 1.26483819 ... 1.03207663 0.         1.38880869]\n",
      " [0.83834549 0.05675616 1.53236152 ... 0.38072901 1.38880869 0.        ]]\n"
     ]
    }
   ],
   "source": [
    "distances = pdist(normalized_clean.values, metric='cosine')\n",
    "dist_matrix = squareform(distances)\n",
    "print(dist_matrix)"
   ]
  },
  {
   "cell_type": "markdown",
   "id": "ce1f678a",
   "metadata": {},
   "source": [
    "<b>Mahalanobis</b>"
   ]
  },
  {
   "cell_type": "code",
   "execution_count": 35,
   "id": "c8936e86",
   "metadata": {},
   "outputs": [
    {
     "name": "stdout",
     "output_type": "stream",
     "text": [
      "[[0.         1.81970392 2.81375282 ... 2.01878692 7.46110638 1.88497431]\n",
      " [1.81970392 0.         2.73212909 ... 1.2246816  6.96164399 0.5868891 ]\n",
      " [2.81375282 2.73212909 0.         ... 3.46699473 7.302729   2.86159005]\n",
      " ...\n",
      " [2.01878692 1.2246816  3.46699473 ... 0.         7.34467781 1.40860177]\n",
      " [7.46110638 6.96164399 7.302729   ... 7.34467781 0.         7.3760789 ]\n",
      " [1.88497431 0.5868891  2.86159005 ... 1.40860177 7.3760789  0.        ]]\n"
     ]
    }
   ],
   "source": [
    "distances = pdist(normalized_clean.values, metric='mahalanobis', VI=None)\n",
    "dist_matrix = squareform(distances)\n",
    "print(dist_matrix)"
   ]
  },
  {
   "cell_type": "code",
   "execution_count": null,
   "id": "cf73b8be",
   "metadata": {},
   "outputs": [],
   "source": []
  }
 ],
 "metadata": {
  "kernelspec": {
   "display_name": "Python 3 (ipykernel)",
   "language": "python",
   "name": "python3"
  },
  "language_info": {
   "codemirror_mode": {
    "name": "ipython",
    "version": 3
   },
   "file_extension": ".py",
   "mimetype": "text/x-python",
   "name": "python",
   "nbconvert_exporter": "python",
   "pygments_lexer": "ipython3",
   "version": "3.10.1"
  }
 },
 "nbformat": 4,
 "nbformat_minor": 5
}
