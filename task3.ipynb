{
 "cells": [
  {
   "cell_type": "code",
   "execution_count": 201,
   "id": "5d117357",
   "metadata": {},
   "outputs": [],
   "source": [
    "import scipy.stats as stats\n",
    "import pandas as pd\n",
    "from datetime import datetime\n",
    "import matplotlib.pyplot as plt"
   ]
  },
  {
   "cell_type": "code",
   "execution_count": 202,
   "id": "1e5362b6",
   "metadata": {},
   "outputs": [],
   "source": [
    "file = pd.read_csv(\"./test.csv\")"
   ]
  },
  {
   "cell_type": "code",
   "execution_count": 203,
   "id": "59ebbbe1",
   "metadata": {},
   "outputs": [],
   "source": [
    "review_count = file[\"review_count\"]\n",
    "review_count_zscore = stats.zscore(review_count)"
   ]
  },
  {
   "cell_type": "code",
   "execution_count": 204,
   "id": "d3e9187f",
   "metadata": {},
   "outputs": [
    {
     "data": {
      "text/plain": [
       "0      0.009657\n",
       "1      0.305101\n",
       "2     -0.171302\n",
       "3     -0.152837\n",
       "4     -0.150990\n",
       "         ...   \n",
       "195   -0.145450\n",
       "196   -0.169455\n",
       "197   -0.150990\n",
       "198   -0.123292\n",
       "199   -0.186074\n",
       "Name: review_count, Length: 200, dtype: float64"
      ]
     },
     "execution_count": 204,
     "metadata": {},
     "output_type": "execute_result"
    }
   ],
   "source": [
    "review_count_zscore"
   ]
  },
  {
   "cell_type": "code",
   "execution_count": 205,
   "id": "d60f8c41",
   "metadata": {},
   "outputs": [],
   "source": [
    "review_count_minmax = review_count.copy()"
   ]
  },
  {
   "cell_type": "code",
   "execution_count": 206,
   "id": "07b7a66b",
   "metadata": {},
   "outputs": [],
   "source": [
    "for i in range(len(review_count_minmax)):\n",
    "    review_count_minmax[i] = (review_count_minmax[i] - min(review_count)) / (max(review_count) - min(review_count))"
   ]
  },
  {
   "cell_type": "code",
   "execution_count": 207,
   "id": "c037c57a",
   "metadata": {},
   "outputs": [
    {
     "data": {
      "text/plain": [
       "0      0.014677\n",
       "1      0.035832\n",
       "2      0.001719\n",
       "3      0.003041\n",
       "4      0.003173\n",
       "         ...   \n",
       "195    0.003570\n",
       "196    0.001851\n",
       "197    0.003173\n",
       "198    0.005157\n",
       "199    0.000661\n",
       "Name: review_count, Length: 200, dtype: float64"
      ]
     },
     "execution_count": 207,
     "metadata": {},
     "output_type": "execute_result"
    }
   ],
   "source": [
    "review_count_minmax"
   ]
  },
  {
   "cell_type": "code",
   "execution_count": 208,
   "id": "9f915c56",
   "metadata": {},
   "outputs": [],
   "source": [
    "def parsehours(h):\n",
    "    if type(h) is float:\n",
    "        return 0\n",
    "    total = 0\n",
    "    all_days = h.split(',')\n",
    "    for day in all_days:\n",
    "        times = day.split(\"-\")\n",
    "        times[0] = times[0].split('\\'')[3]\n",
    "        times[1] = times[1].replace('\\'', '')\n",
    "        times[1] = times[1].replace('}', '')\n",
    "        time1 = datetime.strptime(times[0], \"%H:%M\")\n",
    "        time2 = datetime.strptime(times[1], \"%H:%M\")\n",
    "        total += (time2 - time1).seconds/3600\n",
    "    return total"
   ]
  },
  {
   "cell_type": "code",
   "execution_count": 209,
   "id": "e8f67466",
   "metadata": {},
   "outputs": [],
   "source": [
    "hours = file[\"hours\"]\n",
    "hoursparsed = [0]*len(hours)\n",
    "hoursparsedDict = {}"
   ]
  },
  {
   "cell_type": "code",
   "execution_count": 210,
   "id": "b6b02f99",
   "metadata": {},
   "outputs": [
    {
     "data": {
      "text/plain": [
       "0      {'Monday': '5:0-20:0', 'Tuesday': '5:0-20:0', ...\n",
       "1      {'Monday': '0:0-0:0', 'Tuesday': '11:0-20:30',...\n",
       "2                                                    NaN\n",
       "3      {'Monday': '10:30-21:0', 'Tuesday': '10:30-21:...\n",
       "4      {'Monday': '11:0-18:30', 'Tuesday': '11:0-18:3...\n",
       "                             ...                        \n",
       "195    {'Monday': '0:0-0:0', 'Tuesday': '11:0-22:0', ...\n",
       "196    {'Monday': '11:0-22:0', 'Tuesday': '11:0-22:0'...\n",
       "197    {'Friday': '10:0-17:30', 'Saturday': '10:0-17:...\n",
       "198    {'Monday': '11:0-22:0', 'Tuesday': '11:0-22:0'...\n",
       "199    {'Tuesday': '11:0-21:0', 'Wednesday': '11:0-21...\n",
       "Name: hours, Length: 200, dtype: object"
      ]
     },
     "execution_count": 210,
     "metadata": {},
     "output_type": "execute_result"
    }
   ],
   "source": [
    "hours"
   ]
  },
  {
   "cell_type": "code",
   "execution_count": 211,
   "id": "d4593ca1",
   "metadata": {},
   "outputs": [],
   "source": [
    "for i in range(len(hours)):\n",
    "    value = parsehours(hours[i])\n",
    "    if value in hoursparsedDict:\n",
    "        hoursparsedDict[value] +=1\n",
    "    else:\n",
    "        hoursparsedDict[value] = 1\n",
    "    hoursparsed[i] = value"
   ]
  },
  {
   "cell_type": "code",
   "execution_count": 212,
   "id": "4ae546ba",
   "metadata": {},
   "outputs": [
    {
     "ename": "IndexError",
     "evalue": "list index out of range",
     "output_type": "error",
     "traceback": [
      "\u001b[1;31m---------------------------------------------------------------------------\u001b[0m",
      "\u001b[1;31mIndexError\u001b[0m                                Traceback (most recent call last)",
      "Input \u001b[1;32mIn [212]\u001b[0m, in \u001b[0;36m<cell line: 1>\u001b[1;34m()\u001b[0m\n\u001b[0;32m      1\u001b[0m \u001b[38;5;28;01mfor\u001b[39;00m i \u001b[38;5;129;01min\u001b[39;00m \u001b[38;5;28mrange\u001b[39m(\u001b[38;5;28mlen\u001b[39m(hoursparsed)):\n\u001b[1;32m----> 2\u001b[0m     \u001b[38;5;28;01mif\u001b[39;00m \u001b[43mhoursparsed\u001b[49m\u001b[43m[\u001b[49m\u001b[43mi\u001b[49m\u001b[43m]\u001b[49m \u001b[38;5;241m==\u001b[39m \u001b[38;5;241m0\u001b[39m:\n\u001b[0;32m      3\u001b[0m         \u001b[38;5;28;01mdel\u001b[39;00m hoursparsed[i]\n",
      "\u001b[1;31mIndexError\u001b[0m: list index out of range"
     ]
    }
   ],
   "source": []
  },
  {
   "cell_type": "code",
   "execution_count": 213,
   "id": "39b21c72",
   "metadata": {},
   "outputs": [
    {
     "data": {
      "text/plain": [
       "{105.0: 5,\n",
       " 57.0: 3,\n",
       " 0: 28,\n",
       " 72.5: 1,\n",
       " 45.0: 3,\n",
       " 72.0: 6,\n",
       " 24.5: 1,\n",
       " 95.0: 1,\n",
       " 77.0: 3,\n",
       " 52.0: 2,\n",
       " 40.0: 2,\n",
       " 32.5: 1,\n",
       " 37.5: 1,\n",
       " 45.5: 1,\n",
       " 52.5: 1,\n",
       " 75.0: 2,\n",
       " 60.0: 4,\n",
       " 74.0: 2,\n",
       " 59.0: 4,\n",
       " 76.0: 4,\n",
       " 112.0: 1,\n",
       " 82.0: 1,\n",
       " 50.5: 1,\n",
       " 84.0: 3,\n",
       " 28.5: 1,\n",
       " 119.0: 1,\n",
       " 66.0: 3,\n",
       " 64.5: 2,\n",
       " 51.25: 1,\n",
       " 73.5: 4,\n",
       " 78.5: 2,\n",
       " 68.0: 3,\n",
       " 76.5: 1,\n",
       " 39.0: 1,\n",
       " 57.5: 1,\n",
       " 61.0: 2,\n",
       " 79.0: 3,\n",
       " 78.0: 4,\n",
       " 65.5: 1,\n",
       " 46.0: 1,\n",
       " 90.0: 1,\n",
       " 29.0: 1,\n",
       " 93.0: 2,\n",
       " 33.0: 2,\n",
       " 32.0: 2,\n",
       " 70.0: 4,\n",
       " 83.0: 5,\n",
       " 55.0: 2,\n",
       " 81.5: 2,\n",
       " 88.0: 2,\n",
       " 35.0: 2,\n",
       " 55.5: 1,\n",
       " 99.0: 1,\n",
       " 49.0: 1,\n",
       " 63.0: 6,\n",
       " 80.5: 1,\n",
       " 67.0: 1,\n",
       " 41.0: 2,\n",
       " 23.0: 1,\n",
       " 59.5: 1,\n",
       " 44.0: 1,\n",
       " 56.0: 2,\n",
       " 51.5: 2,\n",
       " 88.5: 1,\n",
       " 67.5: 1,\n",
       " 38.0: 1,\n",
       " 68.5: 2,\n",
       " 29.5: 1,\n",
       " 89.0: 1,\n",
       " 30.0: 1,\n",
       " 62.0: 2,\n",
       " 42.0: 2,\n",
       " 51.0: 1,\n",
       " 91.0: 1,\n",
       " 65.0: 1,\n",
       " 146.5: 1,\n",
       " 14.5: 1,\n",
       " 87.5: 1,\n",
       " 114.0: 1,\n",
       " 58.0: 2,\n",
       " 82.5: 1,\n",
       " 30.5: 1,\n",
       " 92.0: 1,\n",
       " 85.0: 2,\n",
       " 54.0: 2,\n",
       " 116.0: 1,\n",
       " 101.0: 1,\n",
       " 81.0: 2,\n",
       " 128.0: 1,\n",
       " 69.0: 1,\n",
       " 71.0: 2,\n",
       " 18.0: 1,\n",
       " 50.0: 1,\n",
       " 25.0: 1,\n",
       " 85.5: 1,\n",
       " 100.0: 1,\n",
       " 75.5: 1,\n",
       " 22.5: 1}"
      ]
     },
     "execution_count": 213,
     "metadata": {},
     "output_type": "execute_result"
    }
   ],
   "source": [
    "hoursparsedDict"
   ]
  },
  {
   "cell_type": "code",
   "execution_count": 214,
   "id": "cbc792f6",
   "metadata": {},
   "outputs": [
    {
     "data": {
      "text/plain": [
       "([<matplotlib.axis.XTick at 0x1b3f79c5a20>,\n",
       "  <matplotlib.axis.XTick at 0x1b3f79c68f0>,\n",
       "  <matplotlib.axis.XTick at 0x1b3f79c4550>,\n",
       "  <matplotlib.axis.XTick at 0x1b3f6afa470>,\n",
       "  <matplotlib.axis.XTick at 0x1b3f4783eb0>,\n",
       "  <matplotlib.axis.XTick at 0x1b3f6afa1d0>,\n",
       "  <matplotlib.axis.XTick at 0x1b3f4782980>,\n",
       "  <matplotlib.axis.XTick at 0x1b3f4782ef0>,\n",
       "  <matplotlib.axis.XTick at 0x1b3f47834f0>,\n",
       "  <matplotlib.axis.XTick at 0x1b3f4780fd0>,\n",
       "  <matplotlib.axis.XTick at 0x1b3f4781360>,\n",
       "  <matplotlib.axis.XTick at 0x1b3f4780bb0>,\n",
       "  <matplotlib.axis.XTick at 0x1b3f4782cb0>,\n",
       "  <matplotlib.axis.XTick at 0x1b3f4782c80>,\n",
       "  <matplotlib.axis.XTick at 0x1b3f8211720>,\n",
       "  <matplotlib.axis.XTick at 0x1b3f8211630>,\n",
       "  <matplotlib.axis.XTick at 0x1b3f8212b30>,\n",
       "  <matplotlib.axis.XTick at 0x1b3f82139a0>,\n",
       "  <matplotlib.axis.XTick at 0x1b3f4780340>,\n",
       "  <matplotlib.axis.XTick at 0x1b3f8213ac0>,\n",
       "  <matplotlib.axis.XTick at 0x1b3f82100d0>,\n",
       "  <matplotlib.axis.XTick at 0x1b3f82124d0>,\n",
       "  <matplotlib.axis.XTick at 0x1b3f8210190>,\n",
       "  <matplotlib.axis.XTick at 0x1b3f8211b40>,\n",
       "  <matplotlib.axis.XTick at 0x1b3f82106d0>,\n",
       "  <matplotlib.axis.XTick at 0x1b3f8210ca0>,\n",
       "  <matplotlib.axis.XTick at 0x1b3f8212d70>,\n",
       "  <matplotlib.axis.XTick at 0x1b3f688cf10>,\n",
       "  <matplotlib.axis.XTick at 0x1b3f688ee90>,\n",
       "  <matplotlib.axis.XTick at 0x1b3f688f7c0>,\n",
       "  <matplotlib.axis.XTick at 0x1b3f688e860>,\n",
       "  <matplotlib.axis.XTick at 0x1b3f688f5b0>,\n",
       "  <matplotlib.axis.XTick at 0x1b3f8210ac0>,\n",
       "  <matplotlib.axis.XTick at 0x1b3f688eef0>,\n",
       "  <matplotlib.axis.XTick at 0x1b3f688fd90>,\n",
       "  <matplotlib.axis.XTick at 0x1b3f688ea40>,\n",
       "  <matplotlib.axis.XTick at 0x1b3f688dd50>,\n",
       "  <matplotlib.axis.XTick at 0x1b3f688c6a0>,\n",
       "  <matplotlib.axis.XTick at 0x1b3f688cdf0>,\n",
       "  <matplotlib.axis.XTick at 0x1b3f688d000>,\n",
       "  <matplotlib.axis.XTick at 0x1b3f8211ae0>,\n",
       "  <matplotlib.axis.XTick at 0x1b3f47498a0>,\n",
       "  <matplotlib.axis.XTick at 0x1b3f47482e0>,\n",
       "  <matplotlib.axis.XTick at 0x1b3f474bc40>,\n",
       "  <matplotlib.axis.XTick at 0x1b3f474aec0>,\n",
       "  <matplotlib.axis.XTick at 0x1b3f688fb20>,\n",
       "  <matplotlib.axis.XTick at 0x1b3f4749c90>,\n",
       "  <matplotlib.axis.XTick at 0x1b3f4748220>,\n",
       "  <matplotlib.axis.XTick at 0x1b3f474ba60>,\n",
       "  <matplotlib.axis.XTick at 0x1b3f474b6d0>,\n",
       "  <matplotlib.axis.XTick at 0x1b3f4749de0>,\n",
       "  <matplotlib.axis.XTick at 0x1b3f47487f0>,\n",
       "  <matplotlib.axis.XTick at 0x1b3f474a110>,\n",
       "  <matplotlib.axis.XTick at 0x1b3f474ba90>,\n",
       "  <matplotlib.axis.XTick at 0x1b3f6813ee0>,\n",
       "  <matplotlib.axis.XTick at 0x1b3f6810790>,\n",
       "  <matplotlib.axis.XTick at 0x1b3f6812bc0>,\n",
       "  <matplotlib.axis.XTick at 0x1b3f6811c30>,\n",
       "  <matplotlib.axis.XTick at 0x1b3f68131c0>,\n",
       "  <matplotlib.axis.XTick at 0x1b3f4748430>,\n",
       "  <matplotlib.axis.XTick at 0x1b3f6813e80>,\n",
       "  <matplotlib.axis.XTick at 0x1b3f6813910>,\n",
       "  <matplotlib.axis.XTick at 0x1b3f68111b0>,\n",
       "  <matplotlib.axis.XTick at 0x1b3f6812020>,\n",
       "  <matplotlib.axis.XTick at 0x1b3f6810a90>,\n",
       "  <matplotlib.axis.XTick at 0x1b3f6811000>,\n",
       "  <matplotlib.axis.XTick at 0x1b3f68103a0>,\n",
       "  <matplotlib.axis.XTick at 0x1b3f68134f0>,\n",
       "  <matplotlib.axis.XTick at 0x1b3f688e560>,\n",
       "  <matplotlib.axis.XTick at 0x1b3f47814b0>,\n",
       "  <matplotlib.axis.XTick at 0x1b3f6b3ca60>,\n",
       "  <matplotlib.axis.XTick at 0x1b3f6b3faf0>,\n",
       "  <matplotlib.axis.XTick at 0x1b3f688f6a0>,\n",
       "  <matplotlib.axis.XTick at 0x1b3f6812b60>,\n",
       "  <matplotlib.axis.XTick at 0x1b3f6b3c190>,\n",
       "  <matplotlib.axis.XTick at 0x1b3f6b3c4c0>,\n",
       "  <matplotlib.axis.XTick at 0x1b3f6b3f670>,\n",
       "  <matplotlib.axis.XTick at 0x1b3f6b3ef50>,\n",
       "  <matplotlib.axis.XTick at 0x1b3f6b3d570>,\n",
       "  <matplotlib.axis.XTick at 0x1b3f8213430>,\n",
       "  <matplotlib.axis.XTick at 0x1b3f6b3c880>,\n",
       "  <matplotlib.axis.XTick at 0x1b3f6b3e020>,\n",
       "  <matplotlib.axis.XTick at 0x1b3f6b3f4c0>,\n",
       "  <matplotlib.axis.XTick at 0x1b3f7d74910>,\n",
       "  <matplotlib.axis.XTick at 0x1b3f7d754e0>,\n",
       "  <matplotlib.axis.XTick at 0x1b3f7d75cc0>,\n",
       "  <matplotlib.axis.XTick at 0x1b3f6b3fd90>,\n",
       "  <matplotlib.axis.XTick at 0x1b3f7d75a20>,\n",
       "  <matplotlib.axis.XTick at 0x1b3f7d74fa0>,\n",
       "  <matplotlib.axis.XTick at 0x1b3f7d76ce0>,\n",
       "  <matplotlib.axis.XTick at 0x1b3f7d76860>,\n",
       "  <matplotlib.axis.XTick at 0x1b3f7d74eb0>,\n",
       "  <matplotlib.axis.XTick at 0x1b3f6b3f070>,\n",
       "  <matplotlib.axis.XTick at 0x1b3f7d77df0>,\n",
       "  <matplotlib.axis.XTick at 0x1b3f7d77f40>,\n",
       "  <matplotlib.axis.XTick at 0x1b3f84f6740>,\n",
       "  <matplotlib.axis.XTick at 0x1b3f84f45b0>,\n",
       "  <matplotlib.axis.XTick at 0x1b3f84f5180>],\n",
       " [Text(0, 0, '105.0'),\n",
       "  Text(1, 0, '57.0'),\n",
       "  Text(2, 0, '0'),\n",
       "  Text(3, 0, '72.5'),\n",
       "  Text(4, 0, '45.0'),\n",
       "  Text(5, 0, '72.0'),\n",
       "  Text(6, 0, '24.5'),\n",
       "  Text(7, 0, '95.0'),\n",
       "  Text(8, 0, '77.0'),\n",
       "  Text(9, 0, '52.0'),\n",
       "  Text(10, 0, '40.0'),\n",
       "  Text(11, 0, '32.5'),\n",
       "  Text(12, 0, '37.5'),\n",
       "  Text(13, 0, '45.5'),\n",
       "  Text(14, 0, '52.5'),\n",
       "  Text(15, 0, '75.0'),\n",
       "  Text(16, 0, '60.0'),\n",
       "  Text(17, 0, '74.0'),\n",
       "  Text(18, 0, '59.0'),\n",
       "  Text(19, 0, '76.0'),\n",
       "  Text(20, 0, '112.0'),\n",
       "  Text(21, 0, '82.0'),\n",
       "  Text(22, 0, '50.5'),\n",
       "  Text(23, 0, '84.0'),\n",
       "  Text(24, 0, '28.5'),\n",
       "  Text(25, 0, '119.0'),\n",
       "  Text(26, 0, '66.0'),\n",
       "  Text(27, 0, '64.5'),\n",
       "  Text(28, 0, '51.25'),\n",
       "  Text(29, 0, '73.5'),\n",
       "  Text(30, 0, '78.5'),\n",
       "  Text(31, 0, '68.0'),\n",
       "  Text(32, 0, '76.5'),\n",
       "  Text(33, 0, '39.0'),\n",
       "  Text(34, 0, '57.5'),\n",
       "  Text(35, 0, '61.0'),\n",
       "  Text(36, 0, '79.0'),\n",
       "  Text(37, 0, '78.0'),\n",
       "  Text(38, 0, '65.5'),\n",
       "  Text(39, 0, '46.0'),\n",
       "  Text(40, 0, '90.0'),\n",
       "  Text(41, 0, '29.0'),\n",
       "  Text(42, 0, '93.0'),\n",
       "  Text(43, 0, '33.0'),\n",
       "  Text(44, 0, '32.0'),\n",
       "  Text(45, 0, '70.0'),\n",
       "  Text(46, 0, '83.0'),\n",
       "  Text(47, 0, '55.0'),\n",
       "  Text(48, 0, '81.5'),\n",
       "  Text(49, 0, '88.0'),\n",
       "  Text(50, 0, '35.0'),\n",
       "  Text(51, 0, '55.5'),\n",
       "  Text(52, 0, '99.0'),\n",
       "  Text(53, 0, '49.0'),\n",
       "  Text(54, 0, '63.0'),\n",
       "  Text(55, 0, '80.5'),\n",
       "  Text(56, 0, '67.0'),\n",
       "  Text(57, 0, '41.0'),\n",
       "  Text(58, 0, '23.0'),\n",
       "  Text(59, 0, '59.5'),\n",
       "  Text(60, 0, '44.0'),\n",
       "  Text(61, 0, '56.0'),\n",
       "  Text(62, 0, '51.5'),\n",
       "  Text(63, 0, '88.5'),\n",
       "  Text(64, 0, '67.5'),\n",
       "  Text(65, 0, '38.0'),\n",
       "  Text(66, 0, '68.5'),\n",
       "  Text(67, 0, '29.5'),\n",
       "  Text(68, 0, '89.0'),\n",
       "  Text(69, 0, '30.0'),\n",
       "  Text(70, 0, '62.0'),\n",
       "  Text(71, 0, '42.0'),\n",
       "  Text(72, 0, '51.0'),\n",
       "  Text(73, 0, '91.0'),\n",
       "  Text(74, 0, '65.0'),\n",
       "  Text(75, 0, '146.5'),\n",
       "  Text(76, 0, '14.5'),\n",
       "  Text(77, 0, '87.5'),\n",
       "  Text(78, 0, '114.0'),\n",
       "  Text(79, 0, '58.0'),\n",
       "  Text(80, 0, '82.5'),\n",
       "  Text(81, 0, '30.5'),\n",
       "  Text(82, 0, '92.0'),\n",
       "  Text(83, 0, '85.0'),\n",
       "  Text(84, 0, '54.0'),\n",
       "  Text(85, 0, '116.0'),\n",
       "  Text(86, 0, '101.0'),\n",
       "  Text(87, 0, '81.0'),\n",
       "  Text(88, 0, '128.0'),\n",
       "  Text(89, 0, '69.0'),\n",
       "  Text(90, 0, '71.0'),\n",
       "  Text(91, 0, '18.0'),\n",
       "  Text(92, 0, '50.0'),\n",
       "  Text(93, 0, '25.0'),\n",
       "  Text(94, 0, '85.5'),\n",
       "  Text(95, 0, '100.0'),\n",
       "  Text(96, 0, '75.5'),\n",
       "  Text(97, 0, '22.5')])"
      ]
     },
     "execution_count": 214,
     "metadata": {},
     "output_type": "execute_result"
    },
    {
     "data": {
      "image/png": "[encoded data removed]",
      "text/plain": [
       "<Figure size 432x288 with 1 Axes>"
      ]
     },
     "metadata": {
      "needs_background": "light"
     },
     "output_type": "display_data"
    }
   ],
   "source": [
    "plt.bar(range(len(hoursparsedDict)), list(hoursparsedDict.values()), align='center')\n",
    "plt.xticks(range(len(hoursparsedDict)), list(hoursparsedDict.keys()))"
   ]
  },
  {
   "cell_type": "code",
   "execution_count": 215,
   "id": "579082ac",
   "metadata": {},
   "outputs": [],
   "source": [
    "def toFrequencyDict(x):\n",
    "    d = {}\n",
    "    for value in x:\n",
    "        if value in d:\n",
    "            d[value] +=1\n",
    "        else:\n",
    "            d[value] = 1 \n",
    "    return d"
   ]
  },
  {
   "cell_type": "code",
   "execution_count": 216,
   "id": "24e16935",
   "metadata": {},
   "outputs": [],
   "source": [
    "def dictToPlot(d):\n",
    "    lists = sorted(d.items()) # sorted by key, return a list of tuples\n",
    "\n",
    "    x, y = zip(*lists) # unpack a list of pairs into two tuples\n",
    "\n",
    "    plt.plot(x, y)\n",
    "    plt.show()"
   ]
  },
  {
   "cell_type": "code",
   "execution_count": 230,
   "id": "005da7a8",
   "metadata": {},
   "outputs": [],
   "source": [
    "hours_zscore = [0]*len(hoursparsed)\n",
    "hours_minmax = [0]*len(hoursparsed)"
   ]
  },
  {
   "cell_type": "code",
   "execution_count": 231,
   "id": "b931d3f5",
   "metadata": {},
   "outputs": [],
   "source": [
    "hours_zscore = stats.zscore(hoursparsed)"
   ]
  },
  {
   "cell_type": "code",
   "execution_count": 232,
   "id": "6f06542d",
   "metadata": {},
   "outputs": [
    {
     "data": {
      "text/plain": [
       "array([ 1.62883802e+00, -3.24594992e-01,  3.06201084e-01, -8.12953244e-01,\n",
       "        2.85852824e-01, -1.64723193e+00,  1.22187281e+00,  4.89335429e-01,\n",
       "       -5.28077597e-01, -1.01643585e+00, -1.32165976e+00, -1.11817715e+00,\n",
       "       -7.92604984e-01, -5.07729337e-01,  4.07942387e-01, -2.02505429e-01,\n",
       "        3.67245866e-01, -2.43201950e-01,  4.48638908e-01,  1.62883802e+00,\n",
       "        1.91371367e+00,  6.92818034e-01, -5.89122379e-01,  7.74211076e-01,\n",
       "       -1.48444584e+00,  2.19858931e+00,  4.16736974e-02, -1.93710842e-02,\n",
       "       -5.58599988e-01,  3.46897605e-01,  5.50380210e-01,  1.23066739e-01,\n",
       "        4.68987168e-01, -1.05713237e+00, -3.04246731e-01, -2.43201950e-01,\n",
       "       -1.01643585e+00,  3.46897605e-01, -1.61808908e-01, -8.12953244e-01,\n",
       "        5.70728471e-01,  5.30031950e-01,  2.13254369e-02,  4.89335429e-01,\n",
       "       -7.72256723e-01,  1.01839020e+00, -1.46409758e+00,  1.14047977e+00,\n",
       "       -1.30131150e+00, -1.34200802e+00,  2.85852824e-01,  2.04459782e-01,\n",
       "        7.33514555e-01, -4.05988034e-01,  1.14047977e+00,  6.72469773e-01,\n",
       "        9.36997160e-01, -1.21991845e+00, -3.85639774e-01,  1.38465889e+00,\n",
       "       -6.50167160e-01,  6.72469773e-01,  2.04459782e-01,  2.04459782e-01,\n",
       "       -8.04158657e-02, -1.30131150e+00,  1.62883802e+00,  1.62883802e+00,\n",
       "       -2.02505429e-01,  6.31773252e-01, -8.04158657e-02,  1.62883802e+00,\n",
       "        1.23066739e-01,  2.85852824e-01,  7.33514555e-01,  8.23702184e-02,\n",
       "       -3.24594992e-01, -9.75739329e-01, -1.70827671e+00, -2.22853689e-01,\n",
       "       -8.53649765e-01, -3.65291513e-01, -5.48425858e-01, -2.43201950e-01,\n",
       "       -8.04158657e-02,  9.57345421e-01,  4.07942387e-01,  3.67245866e-01,\n",
       "        1.02718479e-01, -1.34200802e+00,  2.04459782e-01, -2.64429669e+00,\n",
       "        5.30031950e-01,  4.48638908e-01,  7.74211076e-01,  9.36997160e-01,\n",
       "       -1.21991845e+00,  5.70728471e-01, -2.43201950e-01, -1.09782889e+00,\n",
       "        1.43415000e-01, -9.75739329e-01,  7.74211076e-01, -1.44374932e+00,\n",
       "        2.85852824e-01, -5.48425858e-01,  9.77693681e-01, -1.42340106e+00,\n",
       "       -3.24594992e-01, -8.04158657e-02,  3.46897605e-01, -1.21112387e-01,\n",
       "       -9.35042808e-01,  1.43415000e-01, -5.68774118e-01, -2.64429669e+00,\n",
       "        1.05908672e+00, -2.02505429e-01, -9.35042808e-01, -2.02505429e-01,\n",
       "       -2.64429669e+00,  9.77176353e-04, -8.12953244e-01,  3.31774364e+00,\n",
       "       -4.05988034e-01, -1.93710842e-02,  5.30031950e-01, -8.04158657e-02,\n",
       "       -2.05419714e+00,  9.16648900e-01, -2.64429669e+00,  1.99510671e+00,\n",
       "       -2.83898471e-01,  7.13166295e-01,  4.48638908e-01,  7.33514555e-01,\n",
       "       -5.28077597e-01,  2.85852824e-01, -2.64429669e+00, -1.40305280e+00,\n",
       "        1.09978324e+00,  7.33514555e-01, -2.83898471e-01,  8.14907597e-01,\n",
       "        4.89335429e-01, -4.46684555e-01,  2.07649975e+00, -8.04158657e-02,\n",
       "        4.48638908e-01,  1.46605193e+00,  6.52121513e-01,  2.56485800e+00,\n",
       "        1.63763261e-01,  8.14907597e-01,  2.45156303e-01, -4.46684555e-01,\n",
       "        3.46897605e-01, -1.91175931e+00,  4.16736974e-02, -6.09470639e-01,\n",
       "        5.30031950e-01,  6.52121513e-01, -3.65291513e-01,  5.70728471e-01,\n",
       "       -1.61808908e-01,  2.85852824e-01,  4.16736974e-02, -1.62688367e+00,\n",
       "        2.45156303e-01,  8.35255858e-01,  7.33514555e-01,  1.42535541e+00,\n",
       "        1.23066739e-01,  4.28290647e-01, -1.72862497e+00,  5.50380210e-01,\n",
       "       -1.21112387e-01])"
      ]
     },
     "execution_count": 232,
     "metadata": {},
     "output_type": "execute_result"
    }
   ],
   "source": [
    "hours_zscore"
   ]
  },
  {
   "cell_type": "code",
   "execution_count": 233,
   "id": "0e4cb9ea",
   "metadata": {},
   "outputs": [],
   "source": [
    "for i in range(len(hoursparsed)):\n",
    "    hours_minmax[i] = (hoursparsed[i] - min(hoursparsed)) / (max(hoursparsed) - min(hoursparsed))"
   ]
  },
  {
   "cell_type": "code",
   "execution_count": 234,
   "id": "9939a2c2",
   "metadata": {},
   "outputs": [
    {
     "data": {
      "text/plain": [
       "177"
      ]
     },
     "execution_count": 234,
     "metadata": {},
     "output_type": "execute_result"
    }
   ],
   "source": [
    "len(hours_minmax)"
   ]
  },
  {
   "cell_type": "code",
   "execution_count": 227,
   "id": "2bb3b40e",
   "metadata": {},
   "outputs": [
    {
     "ename": "ValueError",
     "evalue": "All arrays must be of the same length",
     "output_type": "error",
     "traceback": [
      "\u001b[1;31m---------------------------------------------------------------------------\u001b[0m",
      "\u001b[1;31mValueError\u001b[0m                                Traceback (most recent call last)",
      "Input \u001b[1;32mIn [227]\u001b[0m, in \u001b[0;36m<cell line: 1>\u001b[1;34m()\u001b[0m\n\u001b[1;32m----> 1\u001b[0m df \u001b[38;5;241m=\u001b[39m \u001b[43mpd\u001b[49m\u001b[38;5;241;43m.\u001b[39;49m\u001b[43mDataFrame\u001b[49m\u001b[43m(\u001b[49m\u001b[43m{\u001b[49m\u001b[38;5;124;43m'\u001b[39;49m\u001b[38;5;124;43mreview_count original\u001b[39;49m\u001b[38;5;124;43m'\u001b[39;49m\u001b[43m:\u001b[49m\u001b[43m \u001b[49m\u001b[43mreview_count\u001b[49m\u001b[43m,\u001b[49m\n\u001b[0;32m      2\u001b[0m \u001b[43m                  \u001b[49m\u001b[38;5;124;43m'\u001b[39;49m\u001b[38;5;124;43mreview_count z-score\u001b[39;49m\u001b[38;5;124;43m'\u001b[39;49m\u001b[43m:\u001b[49m\u001b[43m \u001b[49m\u001b[43mreview_count_zscore\u001b[49m\u001b[43m,\u001b[49m\n\u001b[0;32m      3\u001b[0m \u001b[43m                  \u001b[49m\u001b[38;5;124;43m'\u001b[39;49m\u001b[38;5;124;43mreview_count min-max\u001b[39;49m\u001b[38;5;124;43m'\u001b[39;49m\u001b[43m:\u001b[49m\u001b[43m \u001b[49m\u001b[43mreview_count_minmax\u001b[49m\u001b[43m,\u001b[49m\n\u001b[0;32m      4\u001b[0m \u001b[43m                  \u001b[49m\u001b[38;5;124;43m'\u001b[39;49m\u001b[38;5;124;43mhours original\u001b[39;49m\u001b[38;5;124;43m'\u001b[39;49m\u001b[43m:\u001b[49m\u001b[43m \u001b[49m\u001b[43mhoursparsed\u001b[49m\u001b[43m,\u001b[49m\n\u001b[0;32m      5\u001b[0m \u001b[43m                  \u001b[49m\u001b[38;5;124;43m'\u001b[39;49m\u001b[38;5;124;43mhours z-score\u001b[39;49m\u001b[38;5;124;43m'\u001b[39;49m\u001b[43m:\u001b[49m\u001b[43m \u001b[49m\u001b[43mhours_zscore\u001b[49m\u001b[43m,\u001b[49m\n\u001b[0;32m      6\u001b[0m \u001b[43m                  \u001b[49m\u001b[38;5;124;43m'\u001b[39;49m\u001b[38;5;124;43mhours min-max\u001b[39;49m\u001b[38;5;124;43m'\u001b[39;49m\u001b[43m:\u001b[49m\u001b[43m \u001b[49m\u001b[43mhours_minmax\u001b[49m\u001b[43m}\u001b[49m\u001b[43m)\u001b[49m\n",
      "File \u001b[1;32m~\\AppData\\Local\\Packages\\PythonSoftwareFoundation.Python.3.10_qbz5n2kfra8p0\\LocalCache\\local-packages\\Python310\\site-packages\\pandas\\core\\frame.py:636\u001b[0m, in \u001b[0;36mDataFrame.__init__\u001b[1;34m(self, data, index, columns, dtype, copy)\u001b[0m\n\u001b[0;32m    630\u001b[0m     mgr \u001b[38;5;241m=\u001b[39m \u001b[38;5;28mself\u001b[39m\u001b[38;5;241m.\u001b[39m_init_mgr(\n\u001b[0;32m    631\u001b[0m         data, axes\u001b[38;5;241m=\u001b[39m{\u001b[38;5;124m\"\u001b[39m\u001b[38;5;124mindex\u001b[39m\u001b[38;5;124m\"\u001b[39m: index, \u001b[38;5;124m\"\u001b[39m\u001b[38;5;124mcolumns\u001b[39m\u001b[38;5;124m\"\u001b[39m: columns}, dtype\u001b[38;5;241m=\u001b[39mdtype, copy\u001b[38;5;241m=\u001b[39mcopy\n\u001b[0;32m    632\u001b[0m     )\n\u001b[0;32m    634\u001b[0m \u001b[38;5;28;01melif\u001b[39;00m \u001b[38;5;28misinstance\u001b[39m(data, \u001b[38;5;28mdict\u001b[39m):\n\u001b[0;32m    635\u001b[0m     \u001b[38;5;66;03m# GH#38939 de facto copy defaults to False only in non-dict cases\u001b[39;00m\n\u001b[1;32m--> 636\u001b[0m     mgr \u001b[38;5;241m=\u001b[39m \u001b[43mdict_to_mgr\u001b[49m\u001b[43m(\u001b[49m\u001b[43mdata\u001b[49m\u001b[43m,\u001b[49m\u001b[43m \u001b[49m\u001b[43mindex\u001b[49m\u001b[43m,\u001b[49m\u001b[43m \u001b[49m\u001b[43mcolumns\u001b[49m\u001b[43m,\u001b[49m\u001b[43m \u001b[49m\u001b[43mdtype\u001b[49m\u001b[38;5;241;43m=\u001b[39;49m\u001b[43mdtype\u001b[49m\u001b[43m,\u001b[49m\u001b[43m \u001b[49m\u001b[43mcopy\u001b[49m\u001b[38;5;241;43m=\u001b[39;49m\u001b[43mcopy\u001b[49m\u001b[43m,\u001b[49m\u001b[43m \u001b[49m\u001b[43mtyp\u001b[49m\u001b[38;5;241;43m=\u001b[39;49m\u001b[43mmanager\u001b[49m\u001b[43m)\u001b[49m\n\u001b[0;32m    637\u001b[0m \u001b[38;5;28;01melif\u001b[39;00m \u001b[38;5;28misinstance\u001b[39m(data, ma\u001b[38;5;241m.\u001b[39mMaskedArray):\n\u001b[0;32m    638\u001b[0m     \u001b[38;5;28;01mimport\u001b[39;00m \u001b[38;5;21;01mnumpy\u001b[39;00m\u001b[38;5;21;01m.\u001b[39;00m\u001b[38;5;21;01mma\u001b[39;00m\u001b[38;5;21;01m.\u001b[39;00m\u001b[38;5;21;01mmrecords\u001b[39;00m \u001b[38;5;28;01mas\u001b[39;00m \u001b[38;5;21;01mmrecords\u001b[39;00m\n",
      "File \u001b[1;32m~\\AppData\\Local\\Packages\\PythonSoftwareFoundation.Python.3.10_qbz5n2kfra8p0\\LocalCache\\local-packages\\Python310\\site-packages\\pandas\\core\\internals\\construction.py:502\u001b[0m, in \u001b[0;36mdict_to_mgr\u001b[1;34m(data, index, columns, dtype, typ, copy)\u001b[0m\n\u001b[0;32m    494\u001b[0m     arrays \u001b[38;5;241m=\u001b[39m [\n\u001b[0;32m    495\u001b[0m         x\n\u001b[0;32m    496\u001b[0m         \u001b[38;5;28;01mif\u001b[39;00m \u001b[38;5;129;01mnot\u001b[39;00m \u001b[38;5;28mhasattr\u001b[39m(x, \u001b[38;5;124m\"\u001b[39m\u001b[38;5;124mdtype\u001b[39m\u001b[38;5;124m\"\u001b[39m) \u001b[38;5;129;01mor\u001b[39;00m \u001b[38;5;129;01mnot\u001b[39;00m \u001b[38;5;28misinstance\u001b[39m(x\u001b[38;5;241m.\u001b[39mdtype, ExtensionDtype)\n\u001b[0;32m    497\u001b[0m         \u001b[38;5;28;01melse\u001b[39;00m x\u001b[38;5;241m.\u001b[39mcopy()\n\u001b[0;32m    498\u001b[0m         \u001b[38;5;28;01mfor\u001b[39;00m x \u001b[38;5;129;01min\u001b[39;00m arrays\n\u001b[0;32m    499\u001b[0m     ]\n\u001b[0;32m    500\u001b[0m     \u001b[38;5;66;03m# TODO: can we get rid of the dt64tz special case above?\u001b[39;00m\n\u001b[1;32m--> 502\u001b[0m \u001b[38;5;28;01mreturn\u001b[39;00m \u001b[43marrays_to_mgr\u001b[49m\u001b[43m(\u001b[49m\u001b[43marrays\u001b[49m\u001b[43m,\u001b[49m\u001b[43m \u001b[49m\u001b[43mcolumns\u001b[49m\u001b[43m,\u001b[49m\u001b[43m \u001b[49m\u001b[43mindex\u001b[49m\u001b[43m,\u001b[49m\u001b[43m \u001b[49m\u001b[43mdtype\u001b[49m\u001b[38;5;241;43m=\u001b[39;49m\u001b[43mdtype\u001b[49m\u001b[43m,\u001b[49m\u001b[43m \u001b[49m\u001b[43mtyp\u001b[49m\u001b[38;5;241;43m=\u001b[39;49m\u001b[43mtyp\u001b[49m\u001b[43m,\u001b[49m\u001b[43m \u001b[49m\u001b[43mconsolidate\u001b[49m\u001b[38;5;241;43m=\u001b[39;49m\u001b[43mcopy\u001b[49m\u001b[43m)\u001b[49m\n",
      "File \u001b[1;32m~\\AppData\\Local\\Packages\\PythonSoftwareFoundation.Python.3.10_qbz5n2kfra8p0\\LocalCache\\local-packages\\Python310\\site-packages\\pandas\\core\\internals\\construction.py:120\u001b[0m, in \u001b[0;36marrays_to_mgr\u001b[1;34m(arrays, columns, index, dtype, verify_integrity, typ, consolidate)\u001b[0m\n\u001b[0;32m    117\u001b[0m \u001b[38;5;28;01mif\u001b[39;00m verify_integrity:\n\u001b[0;32m    118\u001b[0m     \u001b[38;5;66;03m# figure out the index, if necessary\u001b[39;00m\n\u001b[0;32m    119\u001b[0m     \u001b[38;5;28;01mif\u001b[39;00m index \u001b[38;5;129;01mis\u001b[39;00m \u001b[38;5;28;01mNone\u001b[39;00m:\n\u001b[1;32m--> 120\u001b[0m         index \u001b[38;5;241m=\u001b[39m \u001b[43m_extract_index\u001b[49m\u001b[43m(\u001b[49m\u001b[43marrays\u001b[49m\u001b[43m)\u001b[49m\n\u001b[0;32m    121\u001b[0m     \u001b[38;5;28;01melse\u001b[39;00m:\n\u001b[0;32m    122\u001b[0m         index \u001b[38;5;241m=\u001b[39m ensure_index(index)\n",
      "File \u001b[1;32m~\\AppData\\Local\\Packages\\PythonSoftwareFoundation.Python.3.10_qbz5n2kfra8p0\\LocalCache\\local-packages\\Python310\\site-packages\\pandas\\core\\internals\\construction.py:674\u001b[0m, in \u001b[0;36m_extract_index\u001b[1;34m(data)\u001b[0m\n\u001b[0;32m    672\u001b[0m lengths \u001b[38;5;241m=\u001b[39m \u001b[38;5;28mlist\u001b[39m(\u001b[38;5;28mset\u001b[39m(raw_lengths))\n\u001b[0;32m    673\u001b[0m \u001b[38;5;28;01mif\u001b[39;00m \u001b[38;5;28mlen\u001b[39m(lengths) \u001b[38;5;241m>\u001b[39m \u001b[38;5;241m1\u001b[39m:\n\u001b[1;32m--> 674\u001b[0m     \u001b[38;5;28;01mraise\u001b[39;00m \u001b[38;5;167;01mValueError\u001b[39;00m(\u001b[38;5;124m\"\u001b[39m\u001b[38;5;124mAll arrays must be of the same length\u001b[39m\u001b[38;5;124m\"\u001b[39m)\n\u001b[0;32m    676\u001b[0m \u001b[38;5;28;01mif\u001b[39;00m have_dicts:\n\u001b[0;32m    677\u001b[0m     \u001b[38;5;28;01mraise\u001b[39;00m \u001b[38;5;167;01mValueError\u001b[39;00m(\n\u001b[0;32m    678\u001b[0m         \u001b[38;5;124m\"\u001b[39m\u001b[38;5;124mMixing dicts with non-Series may lead to ambiguous ordering.\u001b[39m\u001b[38;5;124m\"\u001b[39m\n\u001b[0;32m    679\u001b[0m     )\n",
      "\u001b[1;31mValueError\u001b[0m: All arrays must be of the same length"
     ]
    }
   ],
   "source": [
    "df = pd.DataFrame({'review_count original': review_count,\n",
    "                  'review_count z-score': review_count_zscore,\n",
    "                  'review_count min-max': review_count_minmax,\n",
    "                  'hours original': hoursparsed,\n",
    "                  'hours z-score': hours_zscore,\n",
    "                  'hours min-max': hours_minmax})"
   ]
  },
  {
   "cell_type": "code",
   "execution_count": 200,
   "id": "99be5a86",
   "metadata": {},
   "outputs": [
    {
     "ename": "PermissionError",
     "evalue": "[Errno 13] Permission denied: 'C:/Users/George/Documents/100131001-100131002—T3.csv'",
     "output_type": "error",
     "traceback": [
      "\u001b[1;31m---------------------------------------------------------------------------\u001b[0m",
      "\u001b[1;31mPermissionError\u001b[0m                           Traceback (most recent call last)",
      "Input \u001b[1;32mIn [200]\u001b[0m, in \u001b[0;36m<cell line: 2>\u001b[1;34m()\u001b[0m\n\u001b[0;32m      1\u001b[0m pathanme \u001b[38;5;241m=\u001b[39m \u001b[38;5;124m\"\u001b[39m\u001b[38;5;124mC:/Users/George/Documents/100131001-100131002—T3.csv\u001b[39m\u001b[38;5;124m\"\u001b[39m\n\u001b[1;32m----> 2\u001b[0m \u001b[43mdf\u001b[49m\u001b[38;5;241;43m.\u001b[39;49m\u001b[43mto_csv\u001b[49m\u001b[43m(\u001b[49m\u001b[43mpathanme\u001b[49m\u001b[43m,\u001b[49m\u001b[43m \u001b[49m\u001b[43mindex\u001b[49m\u001b[38;5;241;43m=\u001b[39;49m\u001b[38;5;28;43;01mFalse\u001b[39;49;00m\u001b[43m)\u001b[49m\n",
      "File \u001b[1;32m~\\AppData\\Local\\Packages\\PythonSoftwareFoundation.Python.3.10_qbz5n2kfra8p0\\LocalCache\\local-packages\\Python310\\site-packages\\pandas\\core\\generic.py:3551\u001b[0m, in \u001b[0;36mNDFrame.to_csv\u001b[1;34m(self, path_or_buf, sep, na_rep, float_format, columns, header, index, index_label, mode, encoding, compression, quoting, quotechar, line_terminator, chunksize, date_format, doublequote, escapechar, decimal, errors, storage_options)\u001b[0m\n\u001b[0;32m   3540\u001b[0m df \u001b[38;5;241m=\u001b[39m \u001b[38;5;28mself\u001b[39m \u001b[38;5;28;01mif\u001b[39;00m \u001b[38;5;28misinstance\u001b[39m(\u001b[38;5;28mself\u001b[39m, ABCDataFrame) \u001b[38;5;28;01melse\u001b[39;00m \u001b[38;5;28mself\u001b[39m\u001b[38;5;241m.\u001b[39mto_frame()\n\u001b[0;32m   3542\u001b[0m formatter \u001b[38;5;241m=\u001b[39m DataFrameFormatter(\n\u001b[0;32m   3543\u001b[0m     frame\u001b[38;5;241m=\u001b[39mdf,\n\u001b[0;32m   3544\u001b[0m     header\u001b[38;5;241m=\u001b[39mheader,\n\u001b[1;32m   (...)\u001b[0m\n\u001b[0;32m   3548\u001b[0m     decimal\u001b[38;5;241m=\u001b[39mdecimal,\n\u001b[0;32m   3549\u001b[0m )\n\u001b[1;32m-> 3551\u001b[0m \u001b[38;5;28;01mreturn\u001b[39;00m \u001b[43mDataFrameRenderer\u001b[49m\u001b[43m(\u001b[49m\u001b[43mformatter\u001b[49m\u001b[43m)\u001b[49m\u001b[38;5;241;43m.\u001b[39;49m\u001b[43mto_csv\u001b[49m\u001b[43m(\u001b[49m\n\u001b[0;32m   3552\u001b[0m \u001b[43m    \u001b[49m\u001b[43mpath_or_buf\u001b[49m\u001b[43m,\u001b[49m\n\u001b[0;32m   3553\u001b[0m \u001b[43m    \u001b[49m\u001b[43mline_terminator\u001b[49m\u001b[38;5;241;43m=\u001b[39;49m\u001b[43mline_terminator\u001b[49m\u001b[43m,\u001b[49m\n\u001b[0;32m   3554\u001b[0m \u001b[43m    \u001b[49m\u001b[43msep\u001b[49m\u001b[38;5;241;43m=\u001b[39;49m\u001b[43msep\u001b[49m\u001b[43m,\u001b[49m\n\u001b[0;32m   3555\u001b[0m \u001b[43m    \u001b[49m\u001b[43mencoding\u001b[49m\u001b[38;5;241;43m=\u001b[39;49m\u001b[43mencoding\u001b[49m\u001b[43m,\u001b[49m\n\u001b[0;32m   3556\u001b[0m \u001b[43m    \u001b[49m\u001b[43merrors\u001b[49m\u001b[38;5;241;43m=\u001b[39;49m\u001b[43merrors\u001b[49m\u001b[43m,\u001b[49m\n\u001b[0;32m   3557\u001b[0m \u001b[43m    \u001b[49m\u001b[43mcompression\u001b[49m\u001b[38;5;241;43m=\u001b[39;49m\u001b[43mcompression\u001b[49m\u001b[43m,\u001b[49m\n\u001b[0;32m   3558\u001b[0m \u001b[43m    \u001b[49m\u001b[43mquoting\u001b[49m\u001b[38;5;241;43m=\u001b[39;49m\u001b[43mquoting\u001b[49m\u001b[43m,\u001b[49m\n\u001b[0;32m   3559\u001b[0m \u001b[43m    \u001b[49m\u001b[43mcolumns\u001b[49m\u001b[38;5;241;43m=\u001b[39;49m\u001b[43mcolumns\u001b[49m\u001b[43m,\u001b[49m\n\u001b[0;32m   3560\u001b[0m \u001b[43m    \u001b[49m\u001b[43mindex_label\u001b[49m\u001b[38;5;241;43m=\u001b[39;49m\u001b[43mindex_label\u001b[49m\u001b[43m,\u001b[49m\n\u001b[0;32m   3561\u001b[0m \u001b[43m    \u001b[49m\u001b[43mmode\u001b[49m\u001b[38;5;241;43m=\u001b[39;49m\u001b[43mmode\u001b[49m\u001b[43m,\u001b[49m\n\u001b[0;32m   3562\u001b[0m \u001b[43m    \u001b[49m\u001b[43mchunksize\u001b[49m\u001b[38;5;241;43m=\u001b[39;49m\u001b[43mchunksize\u001b[49m\u001b[43m,\u001b[49m\n\u001b[0;32m   3563\u001b[0m \u001b[43m    \u001b[49m\u001b[43mquotechar\u001b[49m\u001b[38;5;241;43m=\u001b[39;49m\u001b[43mquotechar\u001b[49m\u001b[43m,\u001b[49m\n\u001b[0;32m   3564\u001b[0m \u001b[43m    \u001b[49m\u001b[43mdate_format\u001b[49m\u001b[38;5;241;43m=\u001b[39;49m\u001b[43mdate_format\u001b[49m\u001b[43m,\u001b[49m\n\u001b[0;32m   3565\u001b[0m \u001b[43m    \u001b[49m\u001b[43mdoublequote\u001b[49m\u001b[38;5;241;43m=\u001b[39;49m\u001b[43mdoublequote\u001b[49m\u001b[43m,\u001b[49m\n\u001b[0;32m   3566\u001b[0m \u001b[43m    \u001b[49m\u001b[43mescapechar\u001b[49m\u001b[38;5;241;43m=\u001b[39;49m\u001b[43mescapechar\u001b[49m\u001b[43m,\u001b[49m\n\u001b[0;32m   3567\u001b[0m \u001b[43m    \u001b[49m\u001b[43mstorage_options\u001b[49m\u001b[38;5;241;43m=\u001b[39;49m\u001b[43mstorage_options\u001b[49m\u001b[43m,\u001b[49m\n\u001b[0;32m   3568\u001b[0m \u001b[43m\u001b[49m\u001b[43m)\u001b[49m\n",
      "File \u001b[1;32m~\\AppData\\Local\\Packages\\PythonSoftwareFoundation.Python.3.10_qbz5n2kfra8p0\\LocalCache\\local-packages\\Python310\\site-packages\\pandas\\io\\formats\\format.py:1180\u001b[0m, in \u001b[0;36mDataFrameRenderer.to_csv\u001b[1;34m(self, path_or_buf, encoding, sep, columns, index_label, mode, compression, quoting, quotechar, line_terminator, chunksize, date_format, doublequote, escapechar, errors, storage_options)\u001b[0m\n\u001b[0;32m   1159\u001b[0m     created_buffer \u001b[38;5;241m=\u001b[39m \u001b[38;5;28;01mFalse\u001b[39;00m\n\u001b[0;32m   1161\u001b[0m csv_formatter \u001b[38;5;241m=\u001b[39m CSVFormatter(\n\u001b[0;32m   1162\u001b[0m     path_or_buf\u001b[38;5;241m=\u001b[39mpath_or_buf,\n\u001b[0;32m   1163\u001b[0m     line_terminator\u001b[38;5;241m=\u001b[39mline_terminator,\n\u001b[1;32m   (...)\u001b[0m\n\u001b[0;32m   1178\u001b[0m     formatter\u001b[38;5;241m=\u001b[39m\u001b[38;5;28mself\u001b[39m\u001b[38;5;241m.\u001b[39mfmt,\n\u001b[0;32m   1179\u001b[0m )\n\u001b[1;32m-> 1180\u001b[0m \u001b[43mcsv_formatter\u001b[49m\u001b[38;5;241;43m.\u001b[39;49m\u001b[43msave\u001b[49m\u001b[43m(\u001b[49m\u001b[43m)\u001b[49m\n\u001b[0;32m   1182\u001b[0m \u001b[38;5;28;01mif\u001b[39;00m created_buffer:\n\u001b[0;32m   1183\u001b[0m     \u001b[38;5;28;01massert\u001b[39;00m \u001b[38;5;28misinstance\u001b[39m(path_or_buf, StringIO)\n",
      "File \u001b[1;32m~\\AppData\\Local\\Packages\\PythonSoftwareFoundation.Python.3.10_qbz5n2kfra8p0\\LocalCache\\local-packages\\Python310\\site-packages\\pandas\\io\\formats\\csvs.py:241\u001b[0m, in \u001b[0;36mCSVFormatter.save\u001b[1;34m(self)\u001b[0m\n\u001b[0;32m    237\u001b[0m \u001b[38;5;124;03m\"\"\"\u001b[39;00m\n\u001b[0;32m    238\u001b[0m \u001b[38;5;124;03mCreate the writer & save.\u001b[39;00m\n\u001b[0;32m    239\u001b[0m \u001b[38;5;124;03m\"\"\"\u001b[39;00m\n\u001b[0;32m    240\u001b[0m \u001b[38;5;66;03m# apply compression and byte/text conversion\u001b[39;00m\n\u001b[1;32m--> 241\u001b[0m \u001b[38;5;28;01mwith\u001b[39;00m \u001b[43mget_handle\u001b[49m\u001b[43m(\u001b[49m\n\u001b[0;32m    242\u001b[0m \u001b[43m    \u001b[49m\u001b[38;5;28;43mself\u001b[39;49m\u001b[38;5;241;43m.\u001b[39;49m\u001b[43mfilepath_or_buffer\u001b[49m\u001b[43m,\u001b[49m\n\u001b[0;32m    243\u001b[0m \u001b[43m    \u001b[49m\u001b[38;5;28;43mself\u001b[39;49m\u001b[38;5;241;43m.\u001b[39;49m\u001b[43mmode\u001b[49m\u001b[43m,\u001b[49m\n\u001b[0;32m    244\u001b[0m \u001b[43m    \u001b[49m\u001b[43mencoding\u001b[49m\u001b[38;5;241;43m=\u001b[39;49m\u001b[38;5;28;43mself\u001b[39;49m\u001b[38;5;241;43m.\u001b[39;49m\u001b[43mencoding\u001b[49m\u001b[43m,\u001b[49m\n\u001b[0;32m    245\u001b[0m \u001b[43m    \u001b[49m\u001b[43merrors\u001b[49m\u001b[38;5;241;43m=\u001b[39;49m\u001b[38;5;28;43mself\u001b[39;49m\u001b[38;5;241;43m.\u001b[39;49m\u001b[43merrors\u001b[49m\u001b[43m,\u001b[49m\n\u001b[0;32m    246\u001b[0m \u001b[43m    \u001b[49m\u001b[43mcompression\u001b[49m\u001b[38;5;241;43m=\u001b[39;49m\u001b[38;5;28;43mself\u001b[39;49m\u001b[38;5;241;43m.\u001b[39;49m\u001b[43mcompression\u001b[49m\u001b[43m,\u001b[49m\n\u001b[0;32m    247\u001b[0m \u001b[43m    \u001b[49m\u001b[43mstorage_options\u001b[49m\u001b[38;5;241;43m=\u001b[39;49m\u001b[38;5;28;43mself\u001b[39;49m\u001b[38;5;241;43m.\u001b[39;49m\u001b[43mstorage_options\u001b[49m\u001b[43m,\u001b[49m\n\u001b[0;32m    248\u001b[0m \u001b[43m\u001b[49m\u001b[43m)\u001b[49m \u001b[38;5;28;01mas\u001b[39;00m handles:\n\u001b[0;32m    249\u001b[0m \n\u001b[0;32m    250\u001b[0m     \u001b[38;5;66;03m# Note: self.encoding is irrelevant here\u001b[39;00m\n\u001b[0;32m    251\u001b[0m     \u001b[38;5;28mself\u001b[39m\u001b[38;5;241m.\u001b[39mwriter \u001b[38;5;241m=\u001b[39m csvlib\u001b[38;5;241m.\u001b[39mwriter(\n\u001b[0;32m    252\u001b[0m         handles\u001b[38;5;241m.\u001b[39mhandle,\n\u001b[0;32m    253\u001b[0m         lineterminator\u001b[38;5;241m=\u001b[39m\u001b[38;5;28mself\u001b[39m\u001b[38;5;241m.\u001b[39mline_terminator,\n\u001b[1;32m   (...)\u001b[0m\n\u001b[0;32m    258\u001b[0m         quotechar\u001b[38;5;241m=\u001b[39m\u001b[38;5;28mself\u001b[39m\u001b[38;5;241m.\u001b[39mquotechar,\n\u001b[0;32m    259\u001b[0m     )\n\u001b[0;32m    261\u001b[0m     \u001b[38;5;28mself\u001b[39m\u001b[38;5;241m.\u001b[39m_save()\n",
      "File \u001b[1;32m~\\AppData\\Local\\Packages\\PythonSoftwareFoundation.Python.3.10_qbz5n2kfra8p0\\LocalCache\\local-packages\\Python310\\site-packages\\pandas\\io\\common.py:786\u001b[0m, in \u001b[0;36mget_handle\u001b[1;34m(path_or_buf, mode, encoding, compression, memory_map, is_text, errors, storage_options)\u001b[0m\n\u001b[0;32m    781\u001b[0m \u001b[38;5;28;01melif\u001b[39;00m \u001b[38;5;28misinstance\u001b[39m(handle, \u001b[38;5;28mstr\u001b[39m):\n\u001b[0;32m    782\u001b[0m     \u001b[38;5;66;03m# Check whether the filename is to be opened in binary mode.\u001b[39;00m\n\u001b[0;32m    783\u001b[0m     \u001b[38;5;66;03m# Binary mode does not support 'encoding' and 'newline'.\u001b[39;00m\n\u001b[0;32m    784\u001b[0m     \u001b[38;5;28;01mif\u001b[39;00m ioargs\u001b[38;5;241m.\u001b[39mencoding \u001b[38;5;129;01mand\u001b[39;00m \u001b[38;5;124m\"\u001b[39m\u001b[38;5;124mb\u001b[39m\u001b[38;5;124m\"\u001b[39m \u001b[38;5;129;01mnot\u001b[39;00m \u001b[38;5;129;01min\u001b[39;00m ioargs\u001b[38;5;241m.\u001b[39mmode:\n\u001b[0;32m    785\u001b[0m         \u001b[38;5;66;03m# Encoding\u001b[39;00m\n\u001b[1;32m--> 786\u001b[0m         handle \u001b[38;5;241m=\u001b[39m \u001b[38;5;28;43mopen\u001b[39;49m\u001b[43m(\u001b[49m\n\u001b[0;32m    787\u001b[0m \u001b[43m            \u001b[49m\u001b[43mhandle\u001b[49m\u001b[43m,\u001b[49m\n\u001b[0;32m    788\u001b[0m \u001b[43m            \u001b[49m\u001b[43mioargs\u001b[49m\u001b[38;5;241;43m.\u001b[39;49m\u001b[43mmode\u001b[49m\u001b[43m,\u001b[49m\n\u001b[0;32m    789\u001b[0m \u001b[43m            \u001b[49m\u001b[43mencoding\u001b[49m\u001b[38;5;241;43m=\u001b[39;49m\u001b[43mioargs\u001b[49m\u001b[38;5;241;43m.\u001b[39;49m\u001b[43mencoding\u001b[49m\u001b[43m,\u001b[49m\n\u001b[0;32m    790\u001b[0m \u001b[43m            \u001b[49m\u001b[43merrors\u001b[49m\u001b[38;5;241;43m=\u001b[39;49m\u001b[43merrors\u001b[49m\u001b[43m,\u001b[49m\n\u001b[0;32m    791\u001b[0m \u001b[43m            \u001b[49m\u001b[43mnewline\u001b[49m\u001b[38;5;241;43m=\u001b[39;49m\u001b[38;5;124;43m\"\u001b[39;49m\u001b[38;5;124;43m\"\u001b[39;49m\u001b[43m,\u001b[49m\n\u001b[0;32m    792\u001b[0m \u001b[43m        \u001b[49m\u001b[43m)\u001b[49m\n\u001b[0;32m    793\u001b[0m     \u001b[38;5;28;01melse\u001b[39;00m:\n\u001b[0;32m    794\u001b[0m         \u001b[38;5;66;03m# Binary mode\u001b[39;00m\n\u001b[0;32m    795\u001b[0m         handle \u001b[38;5;241m=\u001b[39m \u001b[38;5;28mopen\u001b[39m(handle, ioargs\u001b[38;5;241m.\u001b[39mmode)\n",
      "\u001b[1;31mPermissionError\u001b[0m: [Errno 13] Permission denied: 'C:/Users/George/Documents/100131001-100131002—T3.csv'"
     ]
    }
   ],
   "source": [
    "pathanme = \"C:/Users/George/Documents/100131001-100131002—T3.csv\"\n",
    "df.to_csv(pathanme, index=False)"
   ]
  },
  {
   "cell_type": "code",
   "execution_count": 102,
   "id": "756277e7",
   "metadata": {},
   "outputs": [
    {
     "data": {
      "image/png": "[encoded data removed]",
      "text/plain": [
       "<Figure size 432x288 with 1 Axes>"
      ]
     },
     "metadata": {
      "needs_background": "light"
     },
     "output_type": "display_data"
    }
   ],
   "source": [
    "df = pd.DataFrame(hoursparsed, columns=[''])\n",
    "ax = df.plot.bar()"
   ]
  },
  {
   "cell_type": "code",
   "execution_count": 100,
   "id": "88fa78a5",
   "metadata": {},
   "outputs": [
    {
     "data": {
      "image/png": "[encoded data removed]",
      "text/plain": [
       "<Figure size 432x288 with 1 Axes>"
      ]
     },
     "metadata": {
      "needs_background": "light"
     },
     "output_type": "display_data"
    }
   ],
   "source": [
    "df = pd.DataFrame(hours_minmax, columns=[''])\n",
    "ax = df.plot.bar() "
   ]
  },
  {
   "cell_type": "code",
   "execution_count": 101,
   "id": "2b738a12",
   "metadata": {},
   "outputs": [
    {
     "data": {
      "image/png": "[encoded data removed]",
      "text/plain": [
       "<Figure size 432x288 with 1 Axes>"
      ]
     },
     "metadata": {
      "needs_background": "light"
     },
     "output_type": "display_data"
    }
   ],
   "source": [
    "df = pd.DataFrame(hours_zscore, columns=[''])\n",
    "ax = df.plot.bar()"
   ]
  },
  {
   "cell_type": "code",
   "execution_count": 137,
   "id": "f2317e42",
   "metadata": {},
   "outputs": [
    {
     "ename": "AttributeError",
     "evalue": "'dict' object has no attribute 'sort'",
     "output_type": "error",
     "traceback": [
      "\u001b[1;31m---------------------------------------------------------------------------\u001b[0m",
      "\u001b[1;31mAttributeError\u001b[0m                            Traceback (most recent call last)",
      "Input \u001b[1;32mIn [137]\u001b[0m, in \u001b[0;36m<cell line: 2>\u001b[1;34m()\u001b[0m\n\u001b[0;32m      1\u001b[0m d \u001b[38;5;241m=\u001b[39m toFrequencyDict(hoursparsed)\n\u001b[1;32m----> 2\u001b[0m \u001b[43md\u001b[49m\u001b[38;5;241;43m.\u001b[39;49m\u001b[43msort\u001b[49m()\n",
      "\u001b[1;31mAttributeError\u001b[0m: 'dict' object has no attribute 'sort'"
     ]
    }
   ],
   "source": [
    "d = toFrequencyDict(hoursparsed)\n"
   ]
  },
  {
   "cell_type": "code",
   "execution_count": 239,
   "id": "ecf55392",
   "metadata": {},
   "outputs": [
    {
     "data": {
      "image/png": "[encoded data removed]",
      "text/plain": [
       "<Figure size 432x288 with 1 Axes>"
      ]
     },
     "metadata": {
      "needs_background": "light"
     },
     "output_type": "display_data"
    }
   ],
   "source": [
    "hoursDict = toFrequencyDict(hoursparsed)\n",
    "# del hoursDict[0]\n",
    "dictToPlot(hoursDict)"
   ]
  },
  {
   "cell_type": "code",
   "execution_count": 236,
   "id": "4ed66ec3",
   "metadata": {},
   "outputs": [
    {
     "data": {
      "image/png": "[encoded data removed]",
      "text/plain": [
       "<Figure size 432x288 with 1 Axes>"
      ]
     },
     "metadata": {
      "needs_background": "light"
     },
     "output_type": "display_data"
    }
   ],
   "source": [
    "\n",
    "hoursDict = toFrequencyDict(hours_minmax)\n",
    "\n",
    "dictToPlot(hoursDict)"
   ]
  },
  {
   "cell_type": "code",
   "execution_count": 238,
   "id": "79849fd1",
   "metadata": {},
   "outputs": [
    {
     "data": {
      "image/png": "[encoded data removed]",
      "text/plain": [
       "<Figure size 432x288 with 1 Axes>"
      ]
     },
     "metadata": {
      "needs_background": "light"
     },
     "output_type": "display_data"
    }
   ],
   "source": [
    "hoursDict = toFrequencyDict(hours_zscore)\n",
    "dictToPlot(hoursDict)"
   ]
  },
  {
   "cell_type": "code",
   "execution_count": 162,
   "id": "2d12c795",
   "metadata": {},
   "outputs": [
    {
     "data": {
      "image/png": "[encoded data removed]",
      "text/plain": [
       "<Figure size 432x288 with 1 Axes>"
      ]
     },
     "metadata": {
      "needs_background": "light"
     },
     "output_type": "display_data"
    },
    {
     "data": {
      "text/plain": [
       "0      116\n",
       "1      276\n",
       "2       18\n",
       "3       28\n",
       "4       29\n",
       "      ... \n",
       "195     32\n",
       "196     19\n",
       "197     29\n",
       "198     44\n",
       "199     10\n",
       "Name: review_count, Length: 200, dtype: int64"
      ]
     },
     "execution_count": 162,
     "metadata": {},
     "output_type": "execute_result"
    }
   ],
   "source": [
    "d = toFrequencyDict(review_count)\n",
    "\n",
    "review_count\n",
    "dictToPlot(d)\n",
    "review_count"
   ]
  },
  {
   "cell_type": "code",
   "execution_count": 163,
   "id": "6420cc36",
   "metadata": {},
   "outputs": [
    {
     "data": {
      "image/png": "[encoded data removed]",
      "text/plain": [
       "<Figure size 432x288 with 1 Axes>"
      ]
     },
     "metadata": {
      "needs_background": "light"
     },
     "output_type": "display_data"
    }
   ],
   "source": [
    "d = toFrequencyDict(review_count_minmax)\n",
    "dictToPlot(d)"
   ]
  },
  {
   "cell_type": "code",
   "execution_count": 164,
   "id": "47701725",
   "metadata": {},
   "outputs": [
    {
     "data": {
      "image/png": "[encoded data removed]",
      "text/plain": [
       "<Figure size 432x288 with 1 Axes>"
      ]
     },
     "metadata": {
      "needs_background": "light"
     },
     "output_type": "display_data"
    }
   ],
   "source": [
    "d = toFrequencyDict(review_count_zscore)\n",
    "dictToPlot(d)"
   ]
  },
  {
   "cell_type": "code",
   "execution_count": null,
   "id": "f2ddc116",
   "metadata": {},
   "outputs": [],
   "source": []
  }
 ],
 "metadata": {
  "kernelspec": {
   "display_name": "Python 3 (ipykernel)",
   "language": "python",
   "name": "python3"
  },
  "language_info": {
   "codemirror_mode": {
    "name": "ipython",
    "version": 3
   },
   "file_extension": ".py",
   "mimetype": "text/x-python",
   "name": "python",
   "nbconvert_exporter": "python",
   "pygments_lexer": "ipython3",
   "version": "3.10.5"
  }
 },
 "nbformat": 4,
 "nbformat_minor": 5
}
