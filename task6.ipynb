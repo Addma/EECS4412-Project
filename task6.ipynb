{
 "cells": [
  {
   "cell_type": "code",
   "execution_count": 10,
   "id": "dee2d8a4",
   "metadata": {},
   "outputs": [],
   "source": [
    "import pandas as pd\n",
    "import numpy as np\n",
    "from sklearn import tree\n",
    "from sklearn.cluster import AgglomerativeClustering\n",
    "from sklearn.model_selection import train_test_split\n",
    "df = pd.read_csv(\"./clean_user.csv\")\n",
    "dist_matrix = np.genfromtxt('100131001-100131002—T5EU.csv', delimiter=',')"
   ]
  },
  {
   "cell_type": "code",
   "execution_count": 2,
   "id": "da5ae5d8",
   "metadata": {},
   "outputs": [
    {
     "data": {
      "text/html": [
       "<div>\n",
       "<style scoped>\n",
       "    .dataframe tbody tr th:only-of-type {\n",
       "        vertical-align: middle;\n",
       "    }\n",
       "\n",
       "    .dataframe tbody tr th {\n",
       "        vertical-align: top;\n",
       "    }\n",
       "\n",
       "    .dataframe thead th {\n",
       "        text-align: right;\n",
       "    }\n",
       "</style>\n",
       "<table border=\"1\" class=\"dataframe\">\n",
       "  <thead>\n",
       "    <tr style=\"text-align: right;\">\n",
       "      <th></th>\n",
       "      <th>review_count</th>\n",
       "      <th>average_stars</th>\n",
       "      <th>votes</th>\n",
       "      <th>years_yelped</th>\n",
       "      <th>num_friends</th>\n",
       "    </tr>\n",
       "  </thead>\n",
       "  <tbody>\n",
       "    <tr>\n",
       "      <th>0</th>\n",
       "      <td>2</td>\n",
       "      <td>4.50</td>\n",
       "      <td>0</td>\n",
       "      <td>8</td>\n",
       "      <td>223</td>\n",
       "    </tr>\n",
       "    <tr>\n",
       "      <th>1</th>\n",
       "      <td>16</td>\n",
       "      <td>4.69</td>\n",
       "      <td>4</td>\n",
       "      <td>8</td>\n",
       "      <td>0</td>\n",
       "    </tr>\n",
       "    <tr>\n",
       "      <th>2</th>\n",
       "      <td>3</td>\n",
       "      <td>1.67</td>\n",
       "      <td>1</td>\n",
       "      <td>4</td>\n",
       "      <td>56</td>\n",
       "    </tr>\n",
       "    <tr>\n",
       "      <th>3</th>\n",
       "      <td>5</td>\n",
       "      <td>2.00</td>\n",
       "      <td>5</td>\n",
       "      <td>13</td>\n",
       "      <td>0</td>\n",
       "    </tr>\n",
       "    <tr>\n",
       "      <th>4</th>\n",
       "      <td>11</td>\n",
       "      <td>4.17</td>\n",
       "      <td>6</td>\n",
       "      <td>9</td>\n",
       "      <td>81</td>\n",
       "    </tr>\n",
       "  </tbody>\n",
       "</table>\n",
       "</div>"
      ],
      "text/plain": [
       "   review_count  average_stars  votes  years_yelped  num_friends\n",
       "0             2           4.50      0             8          223\n",
       "1            16           4.69      4             8            0\n",
       "2             3           1.67      1             4           56\n",
       "3             5           2.00      5            13            0\n",
       "4            11           4.17      6             9           81"
      ]
     },
     "execution_count": 2,
     "metadata": {},
     "output_type": "execute_result"
    }
   ],
   "source": [
    "df = df.drop(['Unnamed: 0'], axis=1)\n",
    "df.head()"
   ]
  },
  {
   "cell_type": "code",
   "execution_count": 23,
   "id": "60379fdc",
   "metadata": {},
   "outputs": [],
   "source": [
    "cluster_model = AgglomerativeClustering(n_clusters=3, affinity='precomputed', linkage='average', distance_threshold)\n",
    "cluster_model.fit_predict(dist_matrix)\n",
    "df['label'] = cluster_model.labels_"
   ]
  },
  {
   "cell_type": "code",
   "execution_count": 24,
   "id": "7e3a2039",
   "metadata": {},
   "outputs": [
    {
     "name": "stdout",
     "output_type": "stream",
     "text": [
      "label\n",
      "0    198\n",
      "1      1\n",
      "2      1\n",
      "dtype: int64\n"
     ]
    }
   ],
   "source": [
    "print(df.groupby(['label']).size())"
   ]
  },
  {
   "cell_type": "code",
   "execution_count": 5,
   "id": "50bab3a8",
   "metadata": {},
   "outputs": [
    {
     "name": "stdout",
     "output_type": "stream",
     "text": [
      "0.9375\n"
     ]
    }
   ],
   "source": [
    "features = df.drop(columns=['label'])\n",
    "label = df['label']\n",
    "x_train, x_test, y_train, y_test = train_test_split(features, label, test_size=0.4, random_state=42)\n",
    "\n",
    "decision_tree = tree.DecisionTreeClassifier()\n",
    "train = decision_tree.fit(x_train, y_train)\n",
    "score = train.score(x_test, y_test)\n",
    "\n",
    "print(score)"
   ]
  },
  {
   "cell_type": "code",
   "execution_count": 6,
   "id": "03306010",
   "metadata": {},
   "outputs": [
    {
     "data": {
      "text/plain": [
       "[Text(0.6666666666666666, 0.9375, 'X[0] <= 1.5\\ngini = 0.065\\nsamples = 120\\nvalue = [116, 2, 2]'),\n",
       " Text(0.5555555555555556, 0.8125, 'X[3] <= 2.0\\ngini = 0.282\\nsamples = 25\\nvalue = [21, 2, 2]'),\n",
       " Text(0.3333333333333333, 0.6875, 'X[4] <= 6.0\\ngini = 0.5\\nsamples = 2\\nvalue = [1, 1, 0]'),\n",
       " Text(0.2222222222222222, 0.5625, 'gini = 0.0\\nsamples = 1\\nvalue = [0, 1, 0]'),\n",
       " Text(0.4444444444444444, 0.5625, 'gini = 0.0\\nsamples = 1\\nvalue = [1, 0, 0]'),\n",
       " Text(0.7777777777777778, 0.6875, 'X[4] <= 1.0\\ngini = 0.234\\nsamples = 23\\nvalue = [20, 1, 2]'),\n",
       " Text(0.6666666666666666, 0.5625, 'X[3] <= 7.5\\ngini = 0.32\\nsamples = 16\\nvalue = [13, 1, 2]'),\n",
       " Text(0.5555555555555556, 0.4375, 'X[3] <= 6.5\\ngini = 0.46\\nsamples = 10\\nvalue = [7, 1, 2]'),\n",
       " Text(0.3333333333333333, 0.3125, 'X[1] <= 1.5\\ngini = 0.245\\nsamples = 7\\nvalue = [6, 0, 1]'),\n",
       " Text(0.2222222222222222, 0.1875, 'X[3] <= 5.0\\ngini = 0.444\\nsamples = 3\\nvalue = [2, 0, 1]'),\n",
       " Text(0.1111111111111111, 0.0625, 'gini = 0.5\\nsamples = 2\\nvalue = [1, 0, 1]'),\n",
       " Text(0.3333333333333333, 0.0625, 'gini = 0.0\\nsamples = 1\\nvalue = [1, 0, 0]'),\n",
       " Text(0.4444444444444444, 0.1875, 'gini = 0.0\\nsamples = 4\\nvalue = [4, 0, 0]'),\n",
       " Text(0.7777777777777778, 0.3125, 'X[1] <= 4.0\\ngini = 0.667\\nsamples = 3\\nvalue = [1, 1, 1]'),\n",
       " Text(0.6666666666666666, 0.1875, 'gini = 0.0\\nsamples = 1\\nvalue = [1, 0, 0]'),\n",
       " Text(0.8888888888888888, 0.1875, 'gini = 0.5\\nsamples = 2\\nvalue = [0, 1, 1]'),\n",
       " Text(0.7777777777777778, 0.4375, 'gini = 0.0\\nsamples = 6\\nvalue = [6, 0, 0]'),\n",
       " Text(0.8888888888888888, 0.5625, 'gini = 0.0\\nsamples = 7\\nvalue = [7, 0, 0]'),\n",
       " Text(0.7777777777777778, 0.8125, 'gini = 0.0\\nsamples = 95\\nvalue = [95, 0, 0]')]"
      ]
     },
     "execution_count": 6,
     "metadata": {},
     "output_type": "execute_result"
    },
    {
     "data": {
      "image/png": "[encoded data removed]",
      "text/plain": [
       "<Figure size 432x288 with 1 Axes>"
      ]
     },
     "metadata": {
      "needs_background": "light"
     },
     "output_type": "display_data"
    }
   ],
   "source": [
    "tree.plot_tree(train)"
   ]
  },
  {
   "cell_type": "markdown",
   "id": "ee052f86",
   "metadata": {},
   "source": [
    "Unused Code"
   ]
  },
  {
   "cell_type": "code",
   "execution_count": 7,
   "id": "84515612",
   "metadata": {},
   "outputs": [],
   "source": [
    "def classify(stars):\n",
    "    if stars > 4:\n",
    "        return 2\n",
    "    elif stars > 3: \n",
    "        return 1\n",
    "    else:\n",
    "        return 0"
   ]
  }
 ],
 "metadata": {
  "kernelspec": {
   "display_name": "Python 3 (ipykernel)",
   "language": "python",
   "name": "python3"
  },
  "language_info": {
   "codemirror_mode": {
    "name": "ipython",
    "version": 3
   },
   "file_extension": ".py",
   "mimetype": "text/x-python",
   "name": "python",
   "nbconvert_exporter": "python",
   "pygments_lexer": "ipython3",
   "version": "3.10.1"
  }
 },
 "nbformat": 4,
 "nbformat_minor": 5
}
